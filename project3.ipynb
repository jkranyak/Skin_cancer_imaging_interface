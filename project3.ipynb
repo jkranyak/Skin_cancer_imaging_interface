{
  "nbformat": 4,
  "nbformat_minor": 0,
  "metadata": {
    "colab": {
      "provenance": [],
      "authorship_tag": "ABX9TyObeAdT8qkEgybFPNnwrHox",
      "include_colab_link": true
    },
    "kernelspec": {
      "name": "python3",
      "display_name": "Python 3"
    },
    "language_info": {
      "name": "python"
    }
  },
  "cells": [
    {
      "cell_type": "markdown",
      "metadata": {
        "id": "view-in-github",
        "colab_type": "text"
      },
      "source": [
        "<a href=\"https://colab.research.google.com/github/jkranyak/project_3/blob/main/project3.ipynb\" target=\"_parent\"><img src=\"https://colab.research.google.com/assets/colab-badge.svg\" alt=\"Open In Colab\"/></a>"
      ]
    },
    {
      "cell_type": "markdown",
      "source": [
        "Collect and Prepare the Dataset\n",
        "\n",
        "You'll need a dataset of skin growth images with labels indicating the type of growth.\n",
        "The data should be preprocessed (e.g., resizing, normalization) to be suitable for training a model.\n",
        "\n"
      ],
      "metadata": {
        "id": "M7sdoew8PphW"
      }
    },
    {
      "cell_type": "markdown",
      "source": [
        "Collect and Prepare the Dataset\n",
        "The first step in building an AI model to assess types of skin growths through photographs is to collect and prepare a dataset. This process involves several key activities:\n",
        "\n",
        "SStep 1: API Access\n",
        "API Documentation: First, review the ISIC Archive API documentation. It provides detailed information on how to use the API, including authentication, endpoint descriptions, and examples.\n",
        "Authentication: If required, obtain an API key or access token for authentication. The process should be outlined in the documentation."
      ],
      "metadata": {
        "id": "1_BWFCj4QINb"
      }
    },
    {
      "cell_type": "code",
      "source": [
        "!pip install isic-cli\n"
      ],
      "metadata": {
        "colab": {
          "base_uri": "https://localhost:8080/"
        },
        "id": "aVVKoI12Psz6",
        "outputId": "b290608b-cd28-4aa0-e0a8-41f79296e678"
      },
      "execution_count": 1,
      "outputs": [
        {
          "output_type": "stream",
          "name": "stdout",
          "text": [
            "Requirement already satisfied: isic-cli in /usr/local/lib/python3.10/dist-packages (10.0.0)\n",
            "Requirement already satisfied: click>=8 in /usr/local/lib/python3.10/dist-packages (from isic-cli) (8.1.7)\n",
            "Requirement already satisfied: django-s3-file-field-client>=1.0.0 in /usr/local/lib/python3.10/dist-packages (from isic-cli) (1.0.1)\n",
            "Requirement already satisfied: girder-cli-oauth-client<1.0.0 in /usr/local/lib/python3.10/dist-packages (from isic-cli) (0.4.0)\n",
            "Requirement already satisfied: humanize in /usr/local/lib/python3.10/dist-packages (from isic-cli) (4.7.0)\n",
            "Requirement already satisfied: isic-metadata>=1.2.0 in /usr/local/lib/python3.10/dist-packages (from isic-cli) (1.5.0)\n",
            "Requirement already satisfied: more-itertools in /usr/local/lib/python3.10/dist-packages (from isic-cli) (10.1.0)\n",
            "Requirement already satisfied: packaging in /usr/local/lib/python3.10/dist-packages (from isic-cli) (24.0)\n",
            "Requirement already satisfied: requests in /usr/local/lib/python3.10/dist-packages (from isic-cli) (2.31.0)\n",
            "Requirement already satisfied: retryable-requests in /usr/local/lib/python3.10/dist-packages (from isic-cli) (0.1.2)\n",
            "Requirement already satisfied: rich in /usr/local/lib/python3.10/dist-packages (from isic-cli) (13.7.1)\n",
            "Requirement already satisfied: sentry-sdk in /usr/local/lib/python3.10/dist-packages (from isic-cli) (1.44.1)\n",
            "Requirement already satisfied: tenacity in /usr/local/lib/python3.10/dist-packages (from isic-cli) (8.2.3)\n",
            "Requirement already satisfied: authlib in /usr/local/lib/python3.10/dist-packages (from girder-cli-oauth-client<1.0.0->isic-cli) (1.3.0)\n",
            "Requirement already satisfied: pyxdg in /usr/local/lib/python3.10/dist-packages (from girder-cli-oauth-client<1.0.0->isic-cli) (0.28)\n",
            "Requirement already satisfied: pydantic>=2.4 in /usr/local/lib/python3.10/dist-packages (from isic-metadata>=1.2.0->isic-cli) (2.6.4)\n",
            "Requirement already satisfied: charset-normalizer<4,>=2 in /usr/local/lib/python3.10/dist-packages (from requests->isic-cli) (3.3.2)\n",
            "Requirement already satisfied: idna<4,>=2.5 in /usr/local/lib/python3.10/dist-packages (from requests->isic-cli) (3.6)\n",
            "Requirement already satisfied: urllib3<3,>=1.21.1 in /usr/local/lib/python3.10/dist-packages (from requests->isic-cli) (2.0.7)\n",
            "Requirement already satisfied: certifi>=2017.4.17 in /usr/local/lib/python3.10/dist-packages (from requests->isic-cli) (2024.2.2)\n",
            "Requirement already satisfied: requests-toolbelt in /usr/local/lib/python3.10/dist-packages (from retryable-requests->isic-cli) (1.0.0)\n",
            "Requirement already satisfied: markdown-it-py>=2.2.0 in /usr/local/lib/python3.10/dist-packages (from rich->isic-cli) (3.0.0)\n",
            "Requirement already satisfied: pygments<3.0.0,>=2.13.0 in /usr/local/lib/python3.10/dist-packages (from rich->isic-cli) (2.16.1)\n",
            "Requirement already satisfied: mdurl~=0.1 in /usr/local/lib/python3.10/dist-packages (from markdown-it-py>=2.2.0->rich->isic-cli) (0.1.2)\n",
            "Requirement already satisfied: annotated-types>=0.4.0 in /usr/local/lib/python3.10/dist-packages (from pydantic>=2.4->isic-metadata>=1.2.0->isic-cli) (0.6.0)\n",
            "Requirement already satisfied: pydantic-core==2.16.3 in /usr/local/lib/python3.10/dist-packages (from pydantic>=2.4->isic-metadata>=1.2.0->isic-cli) (2.16.3)\n",
            "Requirement already satisfied: typing-extensions>=4.6.1 in /usr/local/lib/python3.10/dist-packages (from pydantic>=2.4->isic-metadata>=1.2.0->isic-cli) (4.10.0)\n",
            "Requirement already satisfied: cryptography in /usr/local/lib/python3.10/dist-packages (from authlib->girder-cli-oauth-client<1.0.0->isic-cli) (42.0.5)\n",
            "Requirement already satisfied: cffi>=1.12 in /usr/local/lib/python3.10/dist-packages (from cryptography->authlib->girder-cli-oauth-client<1.0.0->isic-cli) (1.16.0)\n",
            "Requirement already satisfied: pycparser in /usr/local/lib/python3.10/dist-packages (from cffi>=1.12->cryptography->authlib->girder-cli-oauth-client<1.0.0->isic-cli) (2.22)\n"
          ]
        }
      ]
    },
    {
      "cell_type": "markdown",
      "source": [
        "Step 2: Query the Dataset\n",
        "Endpoints: Use the API endpoints to query the dataset. Common operations include listing available images, retrieving image metadata, and downloading images.\n",
        "Filtering: Utilize query parameters to filter the dataset based on your criteria, such as diagnosis, image type, or other metadata."
      ],
      "metadata": {
        "id": "oonk5DVpQvQp"
      }
    },
    {
      "cell_type": "code",
      "source": [
        "!pip install isic-cli\n"
      ],
      "metadata": {
        "colab": {
          "base_uri": "https://localhost:8080/"
        },
        "id": "T8BVrTm2Svw1",
        "outputId": "9ce6f295-d4e5-4c1e-849e-771d50db2467"
      },
      "execution_count": 2,
      "outputs": [
        {
          "output_type": "stream",
          "name": "stdout",
          "text": [
            "Requirement already satisfied: isic-cli in /usr/local/lib/python3.10/dist-packages (10.0.0)\n",
            "Requirement already satisfied: click>=8 in /usr/local/lib/python3.10/dist-packages (from isic-cli) (8.1.7)\n",
            "Requirement already satisfied: django-s3-file-field-client>=1.0.0 in /usr/local/lib/python3.10/dist-packages (from isic-cli) (1.0.1)\n",
            "Requirement already satisfied: girder-cli-oauth-client<1.0.0 in /usr/local/lib/python3.10/dist-packages (from isic-cli) (0.4.0)\n",
            "Requirement already satisfied: humanize in /usr/local/lib/python3.10/dist-packages (from isic-cli) (4.7.0)\n",
            "Requirement already satisfied: isic-metadata>=1.2.0 in /usr/local/lib/python3.10/dist-packages (from isic-cli) (1.5.0)\n",
            "Requirement already satisfied: more-itertools in /usr/local/lib/python3.10/dist-packages (from isic-cli) (10.1.0)\n",
            "Requirement already satisfied: packaging in /usr/local/lib/python3.10/dist-packages (from isic-cli) (24.0)\n",
            "Requirement already satisfied: requests in /usr/local/lib/python3.10/dist-packages (from isic-cli) (2.31.0)\n",
            "Requirement already satisfied: retryable-requests in /usr/local/lib/python3.10/dist-packages (from isic-cli) (0.1.2)\n",
            "Requirement already satisfied: rich in /usr/local/lib/python3.10/dist-packages (from isic-cli) (13.7.1)\n",
            "Requirement already satisfied: sentry-sdk in /usr/local/lib/python3.10/dist-packages (from isic-cli) (1.44.1)\n",
            "Requirement already satisfied: tenacity in /usr/local/lib/python3.10/dist-packages (from isic-cli) (8.2.3)\n",
            "Requirement already satisfied: authlib in /usr/local/lib/python3.10/dist-packages (from girder-cli-oauth-client<1.0.0->isic-cli) (1.3.0)\n",
            "Requirement already satisfied: pyxdg in /usr/local/lib/python3.10/dist-packages (from girder-cli-oauth-client<1.0.0->isic-cli) (0.28)\n",
            "Requirement already satisfied: pydantic>=2.4 in /usr/local/lib/python3.10/dist-packages (from isic-metadata>=1.2.0->isic-cli) (2.6.4)\n",
            "Requirement already satisfied: charset-normalizer<4,>=2 in /usr/local/lib/python3.10/dist-packages (from requests->isic-cli) (3.3.2)\n",
            "Requirement already satisfied: idna<4,>=2.5 in /usr/local/lib/python3.10/dist-packages (from requests->isic-cli) (3.6)\n",
            "Requirement already satisfied: urllib3<3,>=1.21.1 in /usr/local/lib/python3.10/dist-packages (from requests->isic-cli) (2.0.7)\n",
            "Requirement already satisfied: certifi>=2017.4.17 in /usr/local/lib/python3.10/dist-packages (from requests->isic-cli) (2024.2.2)\n",
            "Requirement already satisfied: requests-toolbelt in /usr/local/lib/python3.10/dist-packages (from retryable-requests->isic-cli) (1.0.0)\n",
            "Requirement already satisfied: markdown-it-py>=2.2.0 in /usr/local/lib/python3.10/dist-packages (from rich->isic-cli) (3.0.0)\n",
            "Requirement already satisfied: pygments<3.0.0,>=2.13.0 in /usr/local/lib/python3.10/dist-packages (from rich->isic-cli) (2.16.1)\n",
            "Requirement already satisfied: mdurl~=0.1 in /usr/local/lib/python3.10/dist-packages (from markdown-it-py>=2.2.0->rich->isic-cli) (0.1.2)\n",
            "Requirement already satisfied: annotated-types>=0.4.0 in /usr/local/lib/python3.10/dist-packages (from pydantic>=2.4->isic-metadata>=1.2.0->isic-cli) (0.6.0)\n",
            "Requirement already satisfied: pydantic-core==2.16.3 in /usr/local/lib/python3.10/dist-packages (from pydantic>=2.4->isic-metadata>=1.2.0->isic-cli) (2.16.3)\n",
            "Requirement already satisfied: typing-extensions>=4.6.1 in /usr/local/lib/python3.10/dist-packages (from pydantic>=2.4->isic-metadata>=1.2.0->isic-cli) (4.10.0)\n",
            "Requirement already satisfied: cryptography in /usr/local/lib/python3.10/dist-packages (from authlib->girder-cli-oauth-client<1.0.0->isic-cli) (42.0.5)\n",
            "Requirement already satisfied: cffi>=1.12 in /usr/local/lib/python3.10/dist-packages (from cryptography->authlib->girder-cli-oauth-client<1.0.0->isic-cli) (1.16.0)\n",
            "Requirement already satisfied: pycparser in /usr/local/lib/python3.10/dist-packages (from cffi>=1.12->cryptography->authlib->girder-cli-oauth-client<1.0.0->isic-cli) (2.22)\n"
          ]
        }
      ]
    },
    {
      "cell_type": "code",
      "source": [
        "# List available collections\n",
        "!isic collection list"
      ],
      "metadata": {
        "colab": {
          "base_uri": "https://localhost:8080/"
        },
        "id": "b59PypIVQy3k",
        "outputId": "ab762f5e-a097-4f9c-ddbe-0d9d21e872db"
      },
      "execution_count": 21,
      "outputs": [
        {
          "output_type": "stream",
          "name": "stdout",
          "text": [
            "If you have been granted special permissions, logging in with `isic user login` might return more data.\n",
            "\n",
            "┏━━━━━┳━━━━━━━━━━━━━━━━━━━━━━━━━━━━━━━━━━━━━━━━━━━━━━━┳━━━━━━━━┳━━━━━━━━┳━━━━━━━━┳━━━━━━━━━━━━━━━━━┓\n",
            "┃\u001b[1m \u001b[0m\u001b[1mID \u001b[0m\u001b[1m \u001b[0m┃\u001b[1m \u001b[0m\u001b[1mName                                         \u001b[0m\u001b[1m \u001b[0m┃\u001b[1m \u001b[0m\u001b[1mPublic\u001b[0m\u001b[1m \u001b[0m┃\u001b[1m \u001b[0m\u001b[1mPinned\u001b[0m\u001b[1m \u001b[0m┃\u001b[1m \u001b[0m\u001b[1mLocked\u001b[0m\u001b[1m \u001b[0m┃\u001b[1m \u001b[0m\u001b[1mDOI            \u001b[0m\u001b[1m \u001b[0m┃\n",
            "┡━━━━━╇━━━━━━━━━━━━━━━━━━━━━━━━━━━━━━━━━━━━━━━━━━━━━━━╇━━━━━━━━╇━━━━━━━━╇━━━━━━━━╇━━━━━━━━━━━━━━━━━┩\n",
            "│ 249 │ BCN20000                                      │ True   │ False  │ False  │ None            │\n",
            "│ 61  │ Challenge 2016: Test                          │ True   │ True   │ True   │ None            │\n",
            "│ 74  │ Challenge 2016: Training                      │ True   │ True   │ True   │ None            │\n",
            "│ 69  │ Challenge 2017: Test                          │ True   │ True   │ True   │ None            │\n",
            "│ 60  │ Challenge 2017: Training                      │ True   │ True   │ True   │ None            │\n",
            "│ 71  │ Challenge 2017: Validation                    │ True   │ True   │ True   │ None            │\n",
            "│ 64  │ Challenge 2018: Task 1-2: Test                │ True   │ True   │ True   │ None            │\n",
            "│ 63  │ Challenge 2018: Task 1-2: Training            │ True   │ True   │ True   │ None            │\n",
            "│ 62  │ Challenge 2018: Task 1-2: Validation          │ True   │ True   │ True   │ None            │\n",
            "│ 67  │ Challenge 2018: Task 3: Test                  │ True   │ True   │ True   │ None            │\n",
            "│ 66  │ Challenge 2018: Task 3: Training              │ True   │ True   │ True   │ None            │\n",
            "│ 73  │ Challenge 2018: Task 3: Validation            │ True   │ True   │ True   │ None            │\n",
            "│ 65  │ Challenge 2019: Training                      │ True   │ True   │ True   │ None            │\n",
            "│ 70  │ Challenge 2020: Training                      │ True   │ True   │ True   │ None            │\n",
            "│ 97  │ Collection for ISBI 2016: 100 Lesion          │ True   │ False  │ True   │ None            │\n",
            "│     │ Classification                                │        │        │        │                 │\n",
            "│ 216 │ Consecutive biopsies for melanoma across year │ True   │ False  │ True   │ 10.34970/151324 │\n",
            "│     │ 2020                                          │        │        │        │                 │\n",
            "│ 75  │ Consumer AI apps                              │ True   │ False  │ True   │ 10.34970/401946 │\n",
            "│ 166 │ EASY Dermoscopy Expert Agreement Study        │ True   │ False  │ False  │ None            │\n",
            "│ 212 │ HAM10000                                      │ True   │ True   │ True   │ None            │\n",
            "│ 175 │ HIBA Skin Lesions                             │ True   │ False  │ True   │ 10.34970/559884 │\n",
            "│ 251 │ Hospital Italiano de Buenos Aires - Skin      │ True   │ False  │ True   │ 10.34970/587329 │\n",
            "│     │ Lesions Images (2019-2022)                    │        │        │        │                 │\n",
            "│ 176 │ Hospital Italiano de Buenos Aires Skin        │ True   │ False  │ True   │ 10.34970/432362 │\n",
            "│     │ Lesions                                       │        │        │        │                 │\n",
            "│ 217 │ Longitudinal overview images of posterior     │ True   │ False  │ True   │ 10.34970/630662 │\n",
            "│     │ trunks                                        │        │        │        │                 │\n",
            "│ 289 │ MSK-1                                         │ True   │ False  │ True   │ None            │\n",
            "│ 290 │ MSK-2                                         │ True   │ False  │ True   │ None            │\n",
            "│ 288 │ MSK-3                                         │ True   │ False  │ True   │ None            │\n",
            "│ 287 │ MSK-4                                         │ True   │ False  │ True   │ None            │\n",
            "│ 286 │ MSK-5                                         │ True   │ False  │ True   │ None            │\n",
            "│ 163 │ MSKCC Consecutive biopsies across year        │ True   │ False  │ True   │ None            │\n",
            "│     │ 2020_cohort                                   │        │        │        │                 │\n",
            "│ 77  │ Melanocytic lesions used for dermoscopic      │ True   │ False  │ True   │ 10.34970/108631 │\n",
            "│     │ feature annotations                           │        │        │        │                 │\n",
            "│ 294 │ Melanoma and Nevus Dermoscopy Images with     │ True   │ False  │ True   │ 10.34970/277003 │\n",
            "│     │ Confirmed Histopathological Diagnosis         │        │        │        │                 │\n",
            "│ 215 │ Newly-acquired and longer-existing acquired   │ True   │ False  │ True   │ 10.34970/408649 │\n",
            "│     │ melanoma and nevi                             │        │        │        │                 │\n",
            "│ 218 │ PROVe-AI                                      │ True   │ True   │ True   │ 10.34970/576276 │\n",
            "│ 328 │ Repeated Dermoscopic Images of Melanocytic    │ True   │ False  │ True   │ 10.34970/560760 │\n",
            "│     │ Lesions                                       │        │        │        │                 │\n",
            "│ 293 │ SONIC                                         │ True   │ False  │ True   │ None            │\n",
            "│ 292 │ UDA-1                                         │ True   │ False  │ True   │ None            │\n",
            "│ 291 │ UDA-2                                         │ True   │ False  │ True   │ None            │\n",
            "│ 285 │ lesions                                       │ True   │ False  │ False  │ None            │\n",
            "│ 172 │ screenshot_public_230207                      │ True   │ False  │ False  │ None            │\n",
            "└─────┴───────────────────────────────────────────────┴────────┴────────┴────────┴─────────────────┘\n"
          ]
        }
      ]
    },
    {
      "cell_type": "markdown",
      "source": [
        "Step 3: Download Images and Metadata\n",
        "Batch Processing: Write a script to automatically download batches of images and their associated metadata.\n",
        "\n",
        "Data Storage will utilize wounting a drive in google and creating files for the train, test, and validation images."
      ],
      "metadata": {
        "id": "_WoiQcyiQzVM"
      }
    },
    {
      "cell_type": "code",
      "source": [
        "! isic user login"
      ],
      "metadata": {
        "colab": {
          "base_uri": "https://localhost:8080/"
        },
        "id": "dW33o_VNdZdO",
        "outputId": "331bb7fe-df8c-4fa6-9a13-9e167ffc1888"
      },
      "execution_count": 22,
      "outputs": [
        {
          "output_type": "stream",
          "name": "stdout",
          "text": [
            "visit the following url in a browser:\n",
            "https://api.isic-archive.com/oauth/authorize?response_type=code&client_id=RpCzc4hFjv5gOJdM2DM2nBdokOviOh5ne63Tpn7Q&redirect_uri=urn%3Aietf%3Awg%3Aoauth%3A2.0%3Aoob&state=wb9ForGyuJMEKvoCodpQ0nsbcYAgEl&code_challenge=2cNQFvyscLm7QrAj_m0ir0PF5NU3fNj4Do-JZVq1V0U&code_challenge_method=S256\n",
            "enter the code shown in your browser: DikQiK3r9iwixAkfjODPWj0fVyxA3d\n",
            "Success!\n"
          ]
        }
      ]
    },
    {
      "cell_type": "code",
      "source": [
        "from google.colab import drive\n",
        "drive.mount('/content/drive', force_remount=True)\n"
      ],
      "metadata": {
        "colab": {
          "base_uri": "https://localhost:8080/"
        },
        "id": "LEd82jt9dHqV",
        "outputId": "5fb64d13-10e6-4092-f1a1-5d14c0559ed6"
      },
      "execution_count": 23,
      "outputs": [
        {
          "output_type": "stream",
          "name": "stdout",
          "text": [
            "Mounted at /content/drive\n"
          ]
        }
      ]
    },
    {
      "cell_type": "code",
      "source": [
        "!mkdir -p \"/content/drive/My Drive/ISIC_2018/training/\"\n",
        "!mkdir -p \"/content/drive/My Drive/ISIC_2018/validation/\"\n",
        "!mkdir -p \"/content/drive/My Drive/ISIC_2018/test/\"\n",
        "\n",
        "# Download the Challenge 2018: Task 1-2: Training set (ID 63)\n",
        "!isic image download --search 'collection_id:63' '/content/drive/My Drive/ISIC_2018/training/'\n",
        "\n",
        "# Download the Challenge 2018: Task 1-2: Validation set (ID 62)\n",
        "!isic image download --search 'collection_id:62' '/content/drive/My Drive/ISIC_2018/validation/'\n",
        "\n",
        "# Download the Challenge 2018: Task 1-2: Test set (ID 64)\n",
        "!isic image download --search 'collection_id:64' '/content/drive/My Drive/ISIC_2018/test/'\n"
      ],
      "metadata": {
        "colab": {
          "base_uri": "https://localhost:8080/"
        },
        "id": "lUqlrg2KQze9",
        "outputId": "4a2c1220-ceb1-4f54-8b7e-c706d74feef1"
      },
      "execution_count": 1,
      "outputs": [
        {
          "output_type": "stream",
          "name": "stdout",
          "text": [
            "\u001b[?25l\r\u001b[2K\n",
            "\u001b[?25h\u001b[31mThe following unexpected error occurred while attempting your operation:\n",
            "\u001b[0m\n",
            "Traceback (most recent call last):\n",
            "  File \"/usr/local/lib/python3.10/dist-packages/isic_cli/cli/__init__.py\", line 183, in main\n",
            "    cli()\n",
            "  File \"/usr/local/lib/python3.10/dist-packages/click/core.py\", line 1157, in __call__\n",
            "    return self.main(*args, **kwargs)\n",
            "  File \"/usr/local/lib/python3.10/dist-packages/click/core.py\", line 1078, in main\n",
            "    rv = self.invoke(ctx)\n",
            "  File \"/usr/local/lib/python3.10/dist-packages/click/core.py\", line 1688, in invoke\n",
            "    return _process_result(sub_ctx.command.invoke(sub_ctx))\n",
            "  File \"/usr/local/lib/python3.10/dist-packages/click/core.py\", line 1688, in invoke\n",
            "    return _process_result(sub_ctx.command.invoke(sub_ctx))\n",
            "  File \"/usr/local/lib/python3.10/dist-packages/click/core.py\", line 1434, in invoke\n",
            "    return ctx.invoke(self.callback, **ctx.params)\n",
            "  File \"/usr/local/lib/python3.10/dist-packages/click/core.py\", line 783, in invoke\n",
            "    return __callback(*args, **kwargs)\n",
            "  File \"/usr/local/lib/python3.10/dist-packages/click/decorators.py\", line 45, in new_func\n",
            "    return f(get_current_context().obj, *args, **kwargs)\n",
            "  File \"/usr/local/lib/python3.10/dist-packages/isic_cli/cli/utils.py\", line 17, in decorator\n",
            "    f(ctx, **kwargs)\n",
            "  File \"/usr/local/lib/python3.10/dist-packages/isic_cli/cli/image.py\", line 99, in download\n",
            "    archive_num_images = get_num_images(ctx.session, search, collections)\n",
            "  File \"/usr/local/lib/python3.10/dist-packages/isic_cli/io/http.py\", line 107, in get_num_images\n",
            "    r.raise_for_status()\n",
            "  File \"/usr/local/lib/python3.10/dist-packages/requests/models.py\", line 1021, in raise_for_status\n",
            "    raise HTTPError(http_error_msg, response=self)\n",
            "requests.exceptions.HTTPError: 400 Client Error: Bad Request for url: https://api.isic-archive.com/api/v2/images/search/?query=collection_id%3A60&collections=&limit=1\n",
            "\n",
            "isic-cli: v10.0.0\n",
            "python:   v3.10.12\n",
            "time:     2024-04-09T20:08:03.124020\n",
            "os:       Linux-6.1.58+-x86_64-with-glibc2.35\n",
            "env:      -\n",
            "user:     -\n",
            "command:  isic image download --search collection_id:60 /content/drive/My Drive/ISIC_2017/training/\n",
            "\n",
            "\u001b[33mThis is a bug in isic-cli, would you like to send a bug report?\u001b[0m (y, n) [y]: y\n",
            "Sending bug report. Press Ctrl-C to quit.\n",
            "\u001b[2K\n",
            "\u001b[?25h\u001b[31mThe following unexpected error occurred while attempting your operation:\n",
            "\u001b[0m\n",
            "Traceback (most recent call last):\n",
            "  File \"/usr/local/lib/python3.10/dist-packages/isic_cli/cli/__init__.py\", line 183, in main\n",
            "    cli()\n",
            "  File \"/usr/local/lib/python3.10/dist-packages/click/core.py\", line 1157, in __call__\n",
            "    return self.main(*args, **kwargs)\n",
            "  File \"/usr/local/lib/python3.10/dist-packages/click/core.py\", line 1078, in main\n",
            "    rv = self.invoke(ctx)\n",
            "  File \"/usr/local/lib/python3.10/dist-packages/click/core.py\", line 1688, in invoke\n",
            "    return _process_result(sub_ctx.command.invoke(sub_ctx))\n",
            "  File \"/usr/local/lib/python3.10/dist-packages/click/core.py\", line 1688, in invoke\n",
            "    return _process_result(sub_ctx.command.invoke(sub_ctx))\n",
            "  File \"/usr/local/lib/python3.10/dist-packages/click/core.py\", line 1434, in invoke\n",
            "    return ctx.invoke(self.callback, **ctx.params)\n",
            "  File \"/usr/local/lib/python3.10/dist-packages/click/core.py\", line 783, in invoke\n",
            "    return __callback(*args, **kwargs)\n",
            "  File \"/usr/local/lib/python3.10/dist-packages/click/decorators.py\", line 45, in new_func\n",
            "    return f(get_current_context().obj, *args, **kwargs)\n",
            "  File \"/usr/local/lib/python3.10/dist-packages/isic_cli/cli/utils.py\", line 17, in decorator\n",
            "    f(ctx, **kwargs)\n",
            "  File \"/usr/local/lib/python3.10/dist-packages/isic_cli/cli/image.py\", line 99, in download\n",
            "    archive_num_images = get_num_images(ctx.session, search, collections)\n",
            "  File \"/usr/local/lib/python3.10/dist-packages/isic_cli/io/http.py\", line 107, in get_num_images\n",
            "    r.raise_for_status()\n",
            "  File \"/usr/local/lib/python3.10/dist-packages/requests/models.py\", line 1021, in raise_for_status\n",
            "    raise HTTPError(http_error_msg, response=self)\n",
            "requests.exceptions.HTTPError: 400 Client Error: Bad Request for url: https://api.isic-archive.com/api/v2/images/search/?query=collection_id%3A71&collections=&limit=1\n",
            "\n",
            "isic-cli: v10.0.0\n",
            "python:   v3.10.12\n",
            "time:     2024-04-09T20:09:55.344228\n",
            "os:       Linux-6.1.58+-x86_64-with-glibc2.35\n",
            "env:      -\n",
            "user:     -\n",
            "command:  isic image download --search collection_id:71 /content/drive/My Drive/ISIC_2017/validation/\n",
            "\n",
            "\u001b[33mThis is a bug in isic-cli, would you like to send a bug report?\u001b[0m (y, n) [y]: Traceback (most recent call last):\n",
            "  File \"/usr/local/bin/isic\", line 8, in <module>\n",
            "    sys.exit(main())\n",
            "  File \"/usr/local/lib/python3.10/dist-packages/isic_cli/cli/__init__.py\", line 224, in main\n",
            "    send_bug_report = click.prompt(\n",
            "  File \"/usr/local/lib/python3.10/dist-packages/click/termui.py\", line 164, in prompt\n",
            "    value = prompt_func(prompt)\n",
            "  File \"/usr/local/lib/python3.10/dist-packages/click/termui.py\", line 147, in prompt_func\n",
            "    raise Abort() from None\n",
            "click.exceptions.Abort\n",
            "Exception ignored in atexit callback: <function AtexitIntegration.setup_once.<locals>._shutdown at 0x7fc4c536bf40>\n",
            "Traceback (most recent call last):\n",
            "  File \"/usr/local/lib/python3.10/dist-packages/sentry_sdk/integrations/atexit.py\", line 61, in _shutdown\n",
            "    client.close(callback=integration.callback)\n",
            "  File \"/usr/local/lib/python3.10/dist-packages/sentry_sdk/client.py\", line 739, in close\n",
            "    self.flush(timeout=timeout, callback=callback)\n",
            "  File \"/usr/local/lib/python3.10/dist-packages/sentry_sdk/client.py\", line 767, in flush\n",
            "    self.transport.flush(timeout=timeout, callback=callback)\n",
            "  File \"/usr/local/lib/python3.10/dist-packages/sentry_sdk/transport.py\", line 587, in flush\n",
            "    self._worker.submit(lambda: self._flush_client_reports(force=True))\n",
            "  File \"/usr/local/lib/python3.10/dist-packages/sentry_sdk/worker.py\", line 121, in submit\n",
            "    self._ensure_thread()\n",
            "  File \"/usr/local/lib/python3.10/dist-packages/sentry_sdk/worker.py\", line 40, in _ensure_thread\n",
            "    self.start()\n",
            "  File \"/usr/local/lib/python3.10/dist-packages/sentry_sdk/worker.py\", line 69, in start\n",
            "    self._thread.start()\n",
            "  File \"/usr/local/lib/python3.10/dist-packages/sentry_sdk/integrations/threading.py\", line 56, in sentry_start\n",
            "    return old_start(self, *a, **kw)\n",
            "  File \"/usr/lib/python3.10/threading.py\", line 935, in start\n",
            "    _start_new_thread(self._bootstrap, ())\n",
            "KeyboardInterrupt: \n",
            "\u001b[2K\n",
            "\u001b[?25h\u001b[31mThe following unexpected error occurred while attempting your operation:\n",
            "\u001b[0m\n",
            "Traceback (most recent call last):\n",
            "  File \"/usr/local/lib/python3.10/dist-packages/isic_cli/cli/__init__.py\", line 183, in main\n",
            "    cli()\n",
            "  File \"/usr/local/lib/python3.10/dist-packages/click/core.py\", line 1157, in __call__\n",
            "    return self.main(*args, **kwargs)\n",
            "  File \"/usr/local/lib/python3.10/dist-packages/click/core.py\", line 1078, in main\n",
            "    rv = self.invoke(ctx)\n",
            "  File \"/usr/local/lib/python3.10/dist-packages/click/core.py\", line 1688, in invoke\n",
            "    return _process_result(sub_ctx.command.invoke(sub_ctx))\n",
            "  File \"/usr/local/lib/python3.10/dist-packages/click/core.py\", line 1688, in invoke\n",
            "    return _process_result(sub_ctx.command.invoke(sub_ctx))\n",
            "  File \"/usr/local/lib/python3.10/dist-packages/click/core.py\", line 1434, in invoke\n",
            "    return ctx.invoke(self.callback, **ctx.params)\n",
            "  File \"/usr/local/lib/python3.10/dist-packages/click/core.py\", line 783, in invoke\n",
            "    return __callback(*args, **kwargs)\n",
            "  File \"/usr/local/lib/python3.10/dist-packages/click/decorators.py\", line 45, in new_func\n",
            "    return f(get_current_context().obj, *args, **kwargs)\n",
            "  File \"/usr/local/lib/python3.10/dist-packages/isic_cli/cli/utils.py\", line 17, in decorator\n",
            "    f(ctx, **kwargs)\n",
            "  File \"/usr/local/lib/python3.10/dist-packages/isic_cli/cli/image.py\", line 99, in download\n",
            "    archive_num_images = get_num_images(ctx.session, search, collections)\n",
            "  File \"/usr/local/lib/python3.10/dist-packages/isic_cli/io/http.py\", line 107, in get_num_images\n",
            "    r.raise_for_status()\n",
            "  File \"/usr/local/lib/python3.10/dist-packages/requests/models.py\", line 1021, in raise_for_status\n",
            "    raise HTTPError(http_error_msg, response=self)\n",
            "requests.exceptions.HTTPError: 400 Client Error: Bad Request for url: https://api.isic-archive.com/api/v2/images/search/?query=collection_id%3A69&collections=&limit=1\n",
            "\n",
            "isic-cli: v10.0.0\n",
            "python:   v3.10.12\n",
            "time:     2024-04-09T20:12:29.888054\n",
            "os:       Linux-6.1.58+-x86_64-with-glibc2.35\n",
            "env:      -\n",
            "user:     -\n",
            "command:  isic image download --search collection_id:69 /content/drive/My Drive/ISIC_2017/test/\n",
            "\n",
            "\u001b[33mThis is a bug in isic-cli, would you like to send a bug report?\u001b[0m (y, n) [y]: Traceback (most recent call last):\n",
            "  File \"/usr/local/bin/isic\", line 8, in <module>\n",
            "    sys.exit(main())\n",
            "  File \"/usr/local/lib/python3.10/dist-packages/isic_cli/cli/__init__.py\", line 224, in main\n",
            "    send_bug_report = click.prompt(\n",
            "  File \"/usr/local/lib/python3.10/dist-packages/click/termui.py\", line 164, in prompt\n",
            "    value = prompt_func(prompt)\n",
            "  File \"/usr/local/lib/python3.10/dist-packages/click/termui.py\", line 147, in prompt_func\n",
            "    raise Abort() from None\n",
            "click.exceptions.Abort\n",
            "Exception ignored in atexit callback: <function AtexitIntegration.setup_once.<locals>._shutdown at 0x7a0b01abbf40>\n",
            "Traceback (most recent call last):\n",
            "  File \"/usr/local/lib/python3.10/dist-packages/sentry_sdk/integrations/atexit.py\", line 61, in _shutdown\n",
            "    client.close(callback=integration.callback)\n",
            "  File \"/usr/local/lib/python3.10/dist-packages/sentry_sdk/client.py\", line 739, in close\n",
            "    self.flush(timeout=timeout, callback=callback)\n",
            "  File \"/usr/local/lib/python3.10/dist-packages/sentry_sdk/client.py\", line 767, in flush\n",
            "    self.transport.flush(timeout=timeout, callback=callback)\n",
            "  File \"/usr/local/lib/python3.10/dist-packages/sentry_sdk/transport.py\", line 587, in flush\n",
            "    self._worker.submit(lambda: self._flush_client_reports(force=True))\n",
            "  File \"/usr/local/lib/python3.10/dist-packages/sentry_sdk/worker.py\", line 121, in submit\n",
            "    self._ensure_thread()\n",
            "  File \"/usr/local/lib/python3.10/dist-packages/sentry_sdk/worker.py\", line 40, in _ensure_thread\n",
            "    self.start()\n",
            "  File \"/usr/local/lib/python3.10/dist-packages/sentry_sdk/worker.py\", line 69, in start\n",
            "    self._thread.start()\n",
            "  File \"/usr/local/lib/python3.10/dist-packages/sentry_sdk/integrations/threading.py\", line 56, in sentry_start\n",
            "    return old_start(self, *a, **kw)\n",
            "  File \"/usr/lib/python3.10/threading.py\", line 940, in start\n",
            "    self._started.wait()\n",
            "  File \"/usr/lib/python3.10/threading.py\", line 607, in wait\n",
            "    signaled = self._cond.wait(timeout)\n",
            "  File \"/usr/lib/python3.10/threading.py\", line 320, in wait\n",
            "    waiter.acquire()\n",
            "KeyboardInterrupt: \n"
          ]
        }
      ]
    },
    {
      "cell_type": "code",
      "source": [
        "response = requests.get(f\"{api_base_url}/images?collectionId=60\")\n",
        "if response.status_code == 200:\n",
        "    images = response.json()\n",
        "    # Process or download images\n",
        "else:\n",
        "    print(\"Failed to retrieve images:\", response.status_code)\n"
      ],
      "metadata": {
        "id": "8LPVWu4vgmNa"
      },
      "execution_count": 3,
      "outputs": []
    },
    {
      "cell_type": "markdown",
      "source": [
        "2. Dataset Preparation\n",
        "\n",
        "Image Preprocessing: Preprocess the images to a consistent size and format. normalize the image data (scaling pixel values to a range of 0 to 1).\n",
        "Data Augmentation: To increase the size of dataset and improve the model's robustness, applying data augmentation techniques such as rotation, zoom, flip, and shift.\n",
        "Labeling: Ensure each image is labeled with the correct type of skin growth. This might involve categorizing images by condition (e.g., benign, malignant, melanoma, etc.)."
      ],
      "metadata": {
        "id": "FCmNbmtBQOBD"
      }
    },
    {
      "cell_type": "code",
      "source": [
        "!pip install tensorflow\n"
      ],
      "metadata": {
        "colab": {
          "base_uri": "https://localhost:8080/"
        },
        "id": "q9dKgTXpPs_K",
        "outputId": "29db1551-d65e-44d7-8ddf-92d5f94fa5f6"
      },
      "execution_count": 10,
      "outputs": [
        {
          "output_type": "stream",
          "name": "stdout",
          "text": [
            "Requirement already satisfied: tensorflow in /usr/local/lib/python3.10/dist-packages (2.15.0)\n",
            "Requirement already satisfied: absl-py>=1.0.0 in /usr/local/lib/python3.10/dist-packages (from tensorflow) (1.4.0)\n",
            "Requirement already satisfied: astunparse>=1.6.0 in /usr/local/lib/python3.10/dist-packages (from tensorflow) (1.6.3)\n",
            "Requirement already satisfied: flatbuffers>=23.5.26 in /usr/local/lib/python3.10/dist-packages (from tensorflow) (24.3.25)\n",
            "Requirement already satisfied: gast!=0.5.0,!=0.5.1,!=0.5.2,>=0.2.1 in /usr/local/lib/python3.10/dist-packages (from tensorflow) (0.5.4)\n",
            "Requirement already satisfied: google-pasta>=0.1.1 in /usr/local/lib/python3.10/dist-packages (from tensorflow) (0.2.0)\n",
            "Requirement already satisfied: h5py>=2.9.0 in /usr/local/lib/python3.10/dist-packages (from tensorflow) (3.9.0)\n",
            "Requirement already satisfied: libclang>=13.0.0 in /usr/local/lib/python3.10/dist-packages (from tensorflow) (18.1.1)\n",
            "Requirement already satisfied: ml-dtypes~=0.2.0 in /usr/local/lib/python3.10/dist-packages (from tensorflow) (0.2.0)\n",
            "Requirement already satisfied: numpy<2.0.0,>=1.23.5 in /usr/local/lib/python3.10/dist-packages (from tensorflow) (1.25.2)\n",
            "Requirement already satisfied: opt-einsum>=2.3.2 in /usr/local/lib/python3.10/dist-packages (from tensorflow) (3.3.0)\n",
            "Requirement already satisfied: packaging in /usr/local/lib/python3.10/dist-packages (from tensorflow) (24.0)\n",
            "Requirement already satisfied: protobuf!=4.21.0,!=4.21.1,!=4.21.2,!=4.21.3,!=4.21.4,!=4.21.5,<5.0.0dev,>=3.20.3 in /usr/local/lib/python3.10/dist-packages (from tensorflow) (3.20.3)\n",
            "Requirement already satisfied: setuptools in /usr/local/lib/python3.10/dist-packages (from tensorflow) (67.7.2)\n",
            "Requirement already satisfied: six>=1.12.0 in /usr/local/lib/python3.10/dist-packages (from tensorflow) (1.16.0)\n",
            "Requirement already satisfied: termcolor>=1.1.0 in /usr/local/lib/python3.10/dist-packages (from tensorflow) (2.4.0)\n",
            "Requirement already satisfied: typing-extensions>=3.6.6 in /usr/local/lib/python3.10/dist-packages (from tensorflow) (4.10.0)\n",
            "Requirement already satisfied: wrapt<1.15,>=1.11.0 in /usr/local/lib/python3.10/dist-packages (from tensorflow) (1.14.1)\n",
            "Requirement already satisfied: tensorflow-io-gcs-filesystem>=0.23.1 in /usr/local/lib/python3.10/dist-packages (from tensorflow) (0.36.0)\n",
            "Requirement already satisfied: grpcio<2.0,>=1.24.3 in /usr/local/lib/python3.10/dist-packages (from tensorflow) (1.62.1)\n",
            "Requirement already satisfied: tensorboard<2.16,>=2.15 in /usr/local/lib/python3.10/dist-packages (from tensorflow) (2.15.2)\n",
            "Requirement already satisfied: tensorflow-estimator<2.16,>=2.15.0 in /usr/local/lib/python3.10/dist-packages (from tensorflow) (2.15.0)\n",
            "Requirement already satisfied: keras<2.16,>=2.15.0 in /usr/local/lib/python3.10/dist-packages (from tensorflow) (2.15.0)\n",
            "Requirement already satisfied: wheel<1.0,>=0.23.0 in /usr/local/lib/python3.10/dist-packages (from astunparse>=1.6.0->tensorflow) (0.43.0)\n",
            "Requirement already satisfied: google-auth<3,>=1.6.3 in /usr/local/lib/python3.10/dist-packages (from tensorboard<2.16,>=2.15->tensorflow) (2.27.0)\n",
            "Requirement already satisfied: google-auth-oauthlib<2,>=0.5 in /usr/local/lib/python3.10/dist-packages (from tensorboard<2.16,>=2.15->tensorflow) (1.2.0)\n",
            "Requirement already satisfied: markdown>=2.6.8 in /usr/local/lib/python3.10/dist-packages (from tensorboard<2.16,>=2.15->tensorflow) (3.6)\n",
            "Requirement already satisfied: requests<3,>=2.21.0 in /usr/local/lib/python3.10/dist-packages (from tensorboard<2.16,>=2.15->tensorflow) (2.31.0)\n",
            "Requirement already satisfied: tensorboard-data-server<0.8.0,>=0.7.0 in /usr/local/lib/python3.10/dist-packages (from tensorboard<2.16,>=2.15->tensorflow) (0.7.2)\n",
            "Requirement already satisfied: werkzeug>=1.0.1 in /usr/local/lib/python3.10/dist-packages (from tensorboard<2.16,>=2.15->tensorflow) (3.0.2)\n",
            "Requirement already satisfied: cachetools<6.0,>=2.0.0 in /usr/local/lib/python3.10/dist-packages (from google-auth<3,>=1.6.3->tensorboard<2.16,>=2.15->tensorflow) (5.3.3)\n",
            "Requirement already satisfied: pyasn1-modules>=0.2.1 in /usr/local/lib/python3.10/dist-packages (from google-auth<3,>=1.6.3->tensorboard<2.16,>=2.15->tensorflow) (0.4.0)\n",
            "Requirement already satisfied: rsa<5,>=3.1.4 in /usr/local/lib/python3.10/dist-packages (from google-auth<3,>=1.6.3->tensorboard<2.16,>=2.15->tensorflow) (4.9)\n",
            "Requirement already satisfied: requests-oauthlib>=0.7.0 in /usr/local/lib/python3.10/dist-packages (from google-auth-oauthlib<2,>=0.5->tensorboard<2.16,>=2.15->tensorflow) (1.3.1)\n",
            "Requirement already satisfied: charset-normalizer<4,>=2 in /usr/local/lib/python3.10/dist-packages (from requests<3,>=2.21.0->tensorboard<2.16,>=2.15->tensorflow) (3.3.2)\n",
            "Requirement already satisfied: idna<4,>=2.5 in /usr/local/lib/python3.10/dist-packages (from requests<3,>=2.21.0->tensorboard<2.16,>=2.15->tensorflow) (3.6)\n",
            "Requirement already satisfied: urllib3<3,>=1.21.1 in /usr/local/lib/python3.10/dist-packages (from requests<3,>=2.21.0->tensorboard<2.16,>=2.15->tensorflow) (2.0.7)\n",
            "Requirement already satisfied: certifi>=2017.4.17 in /usr/local/lib/python3.10/dist-packages (from requests<3,>=2.21.0->tensorboard<2.16,>=2.15->tensorflow) (2024.2.2)\n",
            "Requirement already satisfied: MarkupSafe>=2.1.1 in /usr/local/lib/python3.10/dist-packages (from werkzeug>=1.0.1->tensorboard<2.16,>=2.15->tensorflow) (2.1.5)\n",
            "Requirement already satisfied: pyasn1<0.7.0,>=0.4.6 in /usr/local/lib/python3.10/dist-packages (from pyasn1-modules>=0.2.1->google-auth<3,>=1.6.3->tensorboard<2.16,>=2.15->tensorflow) (0.6.0)\n",
            "Requirement already satisfied: oauthlib>=3.0.0 in /usr/local/lib/python3.10/dist-packages (from requests-oauthlib>=0.7.0->google-auth-oauthlib<2,>=0.5->tensorboard<2.16,>=2.15->tensorflow) (3.2.2)\n"
          ]
        }
      ]
    },
    {
      "cell_type": "code",
      "source": [
        "import os\n",
        "import numpy as np\n",
        "import tensorflow as tf\n",
        "from tensorflow.keras.preprocessing.image import ImageDataGenerator\n",
        "from tensorflow.keras.preprocessing import image_dataset_from_directory\n"
      ],
      "metadata": {
        "id": "hRvnuUwiaCLq"
      },
      "execution_count": 11,
      "outputs": []
    },
    {
      "cell_type": "markdown",
      "source": [
        "Define preprocess Functions"
      ],
      "metadata": {
        "id": "BWuZSK-saZqV"
      }
    },
    {
      "cell_type": "code",
      "source": [
        "def preprocess_data(training_path, validation_path, test_path, img_size, batch_size):\n",
        "    \"\"\"\n",
        "    Preprocess the data: Load, resize, normalize, and optionally augment the images.\n",
        "\n",
        "    Parameters:\n",
        "    - training_path: Path to the training data directory.\n",
        "    - validation_path: Path to the validation data directory.\n",
        "    - test_path: Path to the test data directory.\n",
        "    - img_size: The target size of the images (width, height).\n",
        "    - batch_size: The size of the batches of data.\n",
        "\n",
        "    Returns:\n",
        "    - A tuple of (training_data, validation_data, test_data).\n",
        "    \"\"\"\n",
        "    # Rescaling pixel values from [0, 255] to [0, 1] for neural network to process\n",
        "    rescale = 1./255\n",
        "\n",
        "    # Preparing the training data with data augmentation\n",
        "    train_datagen = ImageDataGenerator(\n",
        "        rescale=rescale,\n",
        "        rotation_range=40,\n",
        "        width_shift_range=0.2,\n",
        "        height_shift_range=0.2,\n",
        "        shear_range=0.2,\n",
        "        zoom_range=0.2,\n",
        "        horizontal_flip=True,\n",
        "        fill_mode='nearest'\n",
        "    )\n",
        "\n",
        "    # Preparing the validation and test data (no data augmentation, only rescaling)\n",
        "    val_test_datagen = ImageDataGenerator(rescale=rescale)\n",
        "\n",
        "    # Loading and iterating directories for training, validation, and test sets\n",
        "    train_data = train_datagen.flow_from_directory(\n",
        "        training_path,\n",
        "        target_size=img_size,\n",
        "        batch_size=batch_size,\n",
        "        class_mode='binary' # or 'categorical' based on your problem\n",
        "    )\n",
        "\n",
        "    validation_data = val_test_datagen.flow_from_directory(\n",
        "        validation_path,\n",
        "        target_size=img_size,\n",
        "        batch_size=batch_size,\n",
        "        class_mode='binary' # or 'categorical'\n",
        "    )\n",
        "\n",
        "    test_data = val_test_datagen.flow_from_directory(\n",
        "        test_path,\n",
        "        target_size=img_size,\n",
        "        batch_size=batch_size,\n",
        "        class_mode='binary' # or 'categorical'\n",
        "    )\n",
        "\n",
        "    return train_data, validation_data, test_data"
      ],
      "metadata": {
        "id": "IdWJbPCWaCWt"
      },
      "execution_count": 12,
      "outputs": []
    },
    {
      "cell_type": "markdown",
      "source": [
        "Preprocess"
      ],
      "metadata": {
        "id": "-1BG1xoKaQyA"
      }
    },
    {
      "cell_type": "code",
      "source": [
        "import os\n",
        "import numpy as np\n",
        "import tensorflow as tf\n",
        "from tensorflow.keras.preprocessing.image import ImageDataGenerator\n",
        "from tensorflow.keras.preprocessing import image_dataset_from_directory\n"
      ],
      "metadata": {
        "id": "SV2dTBqVaSWD"
      },
      "execution_count": 14,
      "outputs": []
    },
    {
      "cell_type": "code",
      "source": [
        "def preprocess_data(training_path, validation_path, test_path, img_size, batch_size):\n",
        "    \"\"\"\n",
        "    Preprocess the data: Load, resize, normalize, and optionally augment the images.\n",
        "\n",
        "    Parameters:\n",
        "    - training_path: Path to the training data directory.\n",
        "    - validation_path: Path to the validation data directory.\n",
        "    - test_path: Path to the test data directory.\n",
        "    - img_size: The target size of the images (width, height).\n",
        "    - batch_size: The size of the batches of data.\n",
        "\n",
        "    Returns:\n",
        "    - A tuple of (training_data, validation_data, test_data).\n",
        "    \"\"\"\n",
        "    # Rescaling pixel values from [0, 255] to [0, 1] for neural network to process\n",
        "    rescale = 1./255\n",
        "\n",
        "    # Preparing the training data with data augmentation\n",
        "    train_datagen = ImageDataGenerator(\n",
        "        rescale=rescale,\n",
        "        rotation_range=40,\n",
        "        width_shift_range=0.2,\n",
        "        height_shift_range=0.2,\n",
        "        shear_range=0.2,\n",
        "        zoom_range=0.2,\n",
        "        horizontal_flip=True,\n",
        "        fill_mode='nearest'\n",
        "    )\n",
        "\n",
        "    # Preparing the validation and test data (no data augmentation, only rescaling)\n",
        "    val_test_datagen = ImageDataGenerator(rescale=rescale)\n",
        "\n",
        "    # Loading and iterating directories for training, validation, and test sets\n",
        "    train_data = train_datagen.flow_from_directory(\n",
        "        training_path,\n",
        "        target_size=img_size,\n",
        "        batch_size=batch_size,\n",
        "        class_mode='binary' # or 'categorical' based on your problem\n",
        "    )\n",
        "\n",
        "    validation_data = val_test_datagen.flow_from_directory(\n",
        "        validation_path,\n",
        "        target_size=img_size,\n",
        "        batch_size=batch_size,\n",
        "        class_mode='binary' # or 'categorical'\n",
        "    )\n",
        "\n",
        "    test_data = val_test_datagen.flow_from_directory(\n",
        "        test_path,\n",
        "        target_size=img_size,\n",
        "        batch_size=batch_size,\n",
        "        class_mode='binary' # or 'categorical'\n",
        "    )\n",
        "\n",
        "    return train_data, validation_data, test_data"
      ],
      "metadata": {
        "id": "QPa9sipxaduY"
      },
      "execution_count": 15,
      "outputs": []
    },
    {
      "cell_type": "markdown",
      "source": [
        "preprocess dataset\n"
      ],
      "metadata": {
        "id": "_SF1zJAOak6A"
      }
    },
    {
      "cell_type": "code",
      "source": [
        "training_path = '/content/drive/My Drive/ISIC_images/training/'\n",
        "validation_path = '/content/drive/My Drive/ISIC_images/validation/'\n",
        "test_path = '/content/drive/My Drive/ISIC_images/test/'\n",
        "\n",
        "# Example size and batch size\n",
        "img_size = (224, 224)\n",
        "batch_size = 32\n",
        "\n",
        "train_data, validation_data, test_data = preprocess_data(training_path, validation_path, test_path, img_size, batch_size)"
      ],
      "metadata": {
        "colab": {
          "base_uri": "https://localhost:8080/"
        },
        "id": "sCBo3otYanxm",
        "outputId": "7a0ce316-b16b-4b32-80e3-18a2050cfcca"
      },
      "execution_count": 16,
      "outputs": [
        {
          "output_type": "stream",
          "name": "stdout",
          "text": [
            "Found 0 images belonging to 0 classes.\n",
            "Found 0 images belonging to 0 classes.\n",
            "Found 0 images belonging to 0 classes.\n"
          ]
        }
      ]
    },
    {
      "cell_type": "markdown",
      "source": [
        "Develop the Image Classification Model\n",
        "\n",
        "here we will choose a Convolutional Neural Network, as it is able to process images effectively\n"
      ],
      "metadata": {
        "id": "4-s9O44IPtii"
      }
    },
    {
      "cell_type": "markdown",
      "source": [
        "Define the model"
      ],
      "metadata": {
        "id": "Dlh09LtFbJla"
      }
    },
    {
      "cell_type": "code",
      "source": [
        "from tensorflow.keras.models import Sequential\n",
        "from tensorflow.keras.layers import Conv2D, MaxPooling2D, Flatten, Dense, Dropout\n"
      ],
      "metadata": {
        "id": "kN-5cGsLZ9ab"
      },
      "execution_count": 17,
      "outputs": []
    },
    {
      "cell_type": "code",
      "source": [
        "def build_model(img_size):\n",
        "    model = Sequential([\n",
        "        Conv2D(32, (3, 3), activation='relu', input_shape=(img_size[0], img_size[1], 3)),\n",
        "        MaxPooling2D(2, 2),\n",
        "        Conv2D(64, (3, 3), activation='relu'),\n",
        "        MaxPooling2D(2, 2),\n",
        "        Conv2D(128, (3, 3), activation='relu'),\n",
        "        MaxPooling2D(2, 2),\n",
        "        Flatten(),\n",
        "        Dense(512, activation='relu'),\n",
        "        Dropout(0.5),\n",
        "        Dense(1, activation='sigmoid')  # Use 'softmax' for multiclass classification\n",
        "    ])\n",
        "\n",
        "    return model"
      ],
      "metadata": {
        "id": "CCIaQGwePwJ-"
      },
      "execution_count": 18,
      "outputs": []
    },
    {
      "cell_type": "markdown",
      "source": [
        "compile the model"
      ],
      "metadata": {
        "id": "DVnJMFcQbU-L"
      }
    },
    {
      "cell_type": "code",
      "source": [
        "model = build_model(img_size)\n",
        "\n",
        "model.compile(optimizer='adam',\n",
        "              loss='binary_crossentropy',  # Use 'categorical_crossentropy' for multiclass classification\n",
        "              metrics=['accuracy'])\n",
        "\n",
        "model.summary()"
      ],
      "metadata": {
        "colab": {
          "base_uri": "https://localhost:8080/"
        },
        "id": "VmzqzDLiPxBw",
        "outputId": "3c4f828f-95be-486b-8033-824450107e2e"
      },
      "execution_count": 19,
      "outputs": [
        {
          "output_type": "stream",
          "name": "stdout",
          "text": [
            "Model: \"sequential\"\n",
            "_________________________________________________________________\n",
            " Layer (type)                Output Shape              Param #   \n",
            "=================================================================\n",
            " conv2d (Conv2D)             (None, 222, 222, 32)      896       \n",
            "                                                                 \n",
            " max_pooling2d (MaxPooling2  (None, 111, 111, 32)      0         \n",
            " D)                                                              \n",
            "                                                                 \n",
            " conv2d_1 (Conv2D)           (None, 109, 109, 64)      18496     \n",
            "                                                                 \n",
            " max_pooling2d_1 (MaxPoolin  (None, 54, 54, 64)        0         \n",
            " g2D)                                                            \n",
            "                                                                 \n",
            " conv2d_2 (Conv2D)           (None, 52, 52, 128)       73856     \n",
            "                                                                 \n",
            " max_pooling2d_2 (MaxPoolin  (None, 26, 26, 128)       0         \n",
            " g2D)                                                            \n",
            "                                                                 \n",
            " flatten (Flatten)           (None, 86528)             0         \n",
            "                                                                 \n",
            " dense (Dense)               (None, 512)               44302848  \n",
            "                                                                 \n",
            " dropout (Dropout)           (None, 512)               0         \n",
            "                                                                 \n",
            " dense_1 (Dense)             (None, 1)                 513       \n",
            "                                                                 \n",
            "=================================================================\n",
            "Total params: 44396609 (169.36 MB)\n",
            "Trainable params: 44396609 (169.36 MB)\n",
            "Non-trainable params: 0 (0.00 Byte)\n",
            "_________________________________________________________________\n"
          ]
        }
      ]
    },
    {
      "cell_type": "markdown",
      "source": [
        "Train the model"
      ],
      "metadata": {
        "id": "SQQCKf67be-X"
      }
    },
    {
      "cell_type": "code",
      "source": [
        "history = model.fit(\n",
        "    train_data,\n",
        "    validation_data=validation_data,\n",
        "    epochs=10,  # You can adjust the number of epochs based on your observations\n",
        "    verbose=1\n",
        ")"
      ],
      "metadata": {
        "colab": {
          "base_uri": "https://localhost:8080/",
          "height": 520
        },
        "id": "FXa3CSHybeHt",
        "outputId": "04a73cc1-172b-4b63-d77f-13a7ce82561a"
      },
      "execution_count": 20,
      "outputs": [
        {
          "output_type": "error",
          "ename": "ValueError",
          "evalue": "Asked to retrieve element 0, but the Sequence has length 0",
          "traceback": [
            "\u001b[0;31m---------------------------------------------------------------------------\u001b[0m",
            "\u001b[0;31mValueError\u001b[0m                                Traceback (most recent call last)",
            "\u001b[0;32m<ipython-input-20-ebff68b97e03>\u001b[0m in \u001b[0;36m<cell line: 1>\u001b[0;34m()\u001b[0m\n\u001b[0;32m----> 1\u001b[0;31m history = model.fit(\n\u001b[0m\u001b[1;32m      2\u001b[0m     \u001b[0mtrain_data\u001b[0m\u001b[0;34m,\u001b[0m\u001b[0;34m\u001b[0m\u001b[0;34m\u001b[0m\u001b[0m\n\u001b[1;32m      3\u001b[0m     \u001b[0mvalidation_data\u001b[0m\u001b[0;34m=\u001b[0m\u001b[0mvalidation_data\u001b[0m\u001b[0;34m,\u001b[0m\u001b[0;34m\u001b[0m\u001b[0;34m\u001b[0m\u001b[0m\n\u001b[1;32m      4\u001b[0m     \u001b[0mepochs\u001b[0m\u001b[0;34m=\u001b[0m\u001b[0;36m10\u001b[0m\u001b[0;34m,\u001b[0m  \u001b[0;31m# You can adjust the number of epochs based on your observations\u001b[0m\u001b[0;34m\u001b[0m\u001b[0;34m\u001b[0m\u001b[0m\n\u001b[1;32m      5\u001b[0m     \u001b[0mverbose\u001b[0m\u001b[0;34m=\u001b[0m\u001b[0;36m1\u001b[0m\u001b[0;34m\u001b[0m\u001b[0;34m\u001b[0m\u001b[0m\n",
            "\u001b[0;32m/usr/local/lib/python3.10/dist-packages/keras/src/utils/traceback_utils.py\u001b[0m in \u001b[0;36merror_handler\u001b[0;34m(*args, **kwargs)\u001b[0m\n\u001b[1;32m     68\u001b[0m             \u001b[0;31m# To get the full stack trace, call:\u001b[0m\u001b[0;34m\u001b[0m\u001b[0;34m\u001b[0m\u001b[0m\n\u001b[1;32m     69\u001b[0m             \u001b[0;31m# `tf.debugging.disable_traceback_filtering()`\u001b[0m\u001b[0;34m\u001b[0m\u001b[0;34m\u001b[0m\u001b[0m\n\u001b[0;32m---> 70\u001b[0;31m             \u001b[0;32mraise\u001b[0m \u001b[0me\u001b[0m\u001b[0;34m.\u001b[0m\u001b[0mwith_traceback\u001b[0m\u001b[0;34m(\u001b[0m\u001b[0mfiltered_tb\u001b[0m\u001b[0;34m)\u001b[0m \u001b[0;32mfrom\u001b[0m \u001b[0;32mNone\u001b[0m\u001b[0;34m\u001b[0m\u001b[0;34m\u001b[0m\u001b[0m\n\u001b[0m\u001b[1;32m     71\u001b[0m         \u001b[0;32mfinally\u001b[0m\u001b[0;34m:\u001b[0m\u001b[0;34m\u001b[0m\u001b[0;34m\u001b[0m\u001b[0m\n\u001b[1;32m     72\u001b[0m             \u001b[0;32mdel\u001b[0m \u001b[0mfiltered_tb\u001b[0m\u001b[0;34m\u001b[0m\u001b[0;34m\u001b[0m\u001b[0m\n",
            "\u001b[0;32m/usr/local/lib/python3.10/dist-packages/keras/src/preprocessing/image.py\u001b[0m in \u001b[0;36m__getitem__\u001b[0;34m(self, idx)\u001b[0m\n\u001b[1;32m    101\u001b[0m     \u001b[0;32mdef\u001b[0m \u001b[0m__getitem__\u001b[0m\u001b[0;34m(\u001b[0m\u001b[0mself\u001b[0m\u001b[0;34m,\u001b[0m \u001b[0midx\u001b[0m\u001b[0;34m)\u001b[0m\u001b[0;34m:\u001b[0m\u001b[0;34m\u001b[0m\u001b[0;34m\u001b[0m\u001b[0m\n\u001b[1;32m    102\u001b[0m         \u001b[0;32mif\u001b[0m \u001b[0midx\u001b[0m \u001b[0;34m>=\u001b[0m \u001b[0mlen\u001b[0m\u001b[0;34m(\u001b[0m\u001b[0mself\u001b[0m\u001b[0;34m)\u001b[0m\u001b[0;34m:\u001b[0m\u001b[0;34m\u001b[0m\u001b[0;34m\u001b[0m\u001b[0m\n\u001b[0;32m--> 103\u001b[0;31m             raise ValueError(\n\u001b[0m\u001b[1;32m    104\u001b[0m                 \u001b[0;34m\"Asked to retrieve element {idx}, \"\u001b[0m\u001b[0;34m\u001b[0m\u001b[0;34m\u001b[0m\u001b[0m\n\u001b[1;32m    105\u001b[0m                 \u001b[0;34m\"but the Sequence \"\u001b[0m\u001b[0;34m\u001b[0m\u001b[0;34m\u001b[0m\u001b[0m\n",
            "\u001b[0;31mValueError\u001b[0m: Asked to retrieve element 0, but the Sequence has length 0"
          ]
        }
      ]
    },
    {
      "cell_type": "markdown",
      "source": [
        "Evaluate the model"
      ],
      "metadata": {
        "id": "3ARrsV4QboSp"
      }
    },
    {
      "cell_type": "code",
      "source": [
        "test_loss, test_acc = model.evaluate(test_data, verbose=2)\n",
        "print(f\"Test accuracy: {test_acc}\")"
      ],
      "metadata": {
        "id": "UAyZameabeKk"
      },
      "execution_count": null,
      "outputs": []
    },
    {
      "cell_type": "markdown",
      "source": [
        "3. Implement the NLP Component\n",
        "\n",
        "Utilize a pre-trained model like GPT-3 for generating explanations or advice based on the classification results.\n",
        "This could involve sending a prompt to the model that includes the classification result and asking it to generate a user-friendly explanation."
      ],
      "metadata": {
        "id": "RfUDDRC0PxcH"
      }
    },
    {
      "cell_type": "code",
      "source": [],
      "metadata": {
        "id": "VXGUt9CFbdHw"
      },
      "execution_count": null,
      "outputs": []
    },
    {
      "cell_type": "code",
      "source": [],
      "metadata": {
        "id": "J1NfzsJ4bdT0"
      },
      "execution_count": null,
      "outputs": []
    },
    {
      "cell_type": "code",
      "source": [],
      "metadata": {
        "id": "DXSsK7n7P0Ke"
      },
      "execution_count": null,
      "outputs": []
    },
    {
      "cell_type": "code",
      "source": [],
      "metadata": {
        "id": "4ScKLPLIP2u8"
      },
      "execution_count": null,
      "outputs": []
    },
    {
      "cell_type": "markdown",
      "source": [
        "4. Integrate APIs\n",
        "\n",
        "If using OpenAI's GPT-3, you'll interact with it through its API, sending requests with the classification results and receiving generated text.\n",
        "If your application needs to store or retrieve data, consider integrating a database and accessing it through a REST API.\n"
      ],
      "metadata": {
        "id": "YmPKZljKP01V"
      }
    },
    {
      "cell_type": "code",
      "source": [],
      "metadata": {
        "id": "O6NC2xqZP72A"
      },
      "execution_count": null,
      "outputs": []
    },
    {
      "cell_type": "code",
      "source": [],
      "metadata": {
        "id": "a3NfZZ-6P8Xw"
      },
      "execution_count": null,
      "outputs": []
    },
    {
      "cell_type": "markdown",
      "source": [
        "5. Build the Application Logic\n",
        "\n",
        "Develop a user interface where users can upload photos of skin growths.\n",
        "After uploading, the photo is sent to the image classification model to determine the type of growth.\n",
        "The classification result is used to generate a prompt for the ChatGPT-like model, which then creates an informative response.\n",
        "Display the response to the user along with any additional advice or recommendations."
      ],
      "metadata": {
        "id": "Pvmr3cJZP838"
      }
    },
    {
      "cell_type": "code",
      "source": [],
      "metadata": {
        "id": "9tcXjuvnP_1G"
      },
      "execution_count": null,
      "outputs": []
    },
    {
      "cell_type": "code",
      "source": [],
      "metadata": {
        "id": "uGcwSi8sQAbL"
      },
      "execution_count": null,
      "outputs": []
    },
    {
      "cell_type": "code",
      "source": [],
      "metadata": {
        "id": "CWdf2KnwQAkj"
      },
      "execution_count": null,
      "outputs": []
    },
    {
      "cell_type": "markdown",
      "source": [],
      "metadata": {
        "id": "p93HB7t2QA9P"
      }
    }
  ]
}