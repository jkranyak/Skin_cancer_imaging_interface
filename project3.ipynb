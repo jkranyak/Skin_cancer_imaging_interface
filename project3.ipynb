{
  "nbformat": 4,
  "nbformat_minor": 0,
  "metadata": {
    "colab": {
      "provenance": [],
      "mount_file_id": "1v60ubgHSE6Xw5BHXLcJnj_S2-DcZbWNA",
      "authorship_tag": "ABX9TyM7dGchnPxc578vZ4hwbs4t",
      "include_colab_link": true
    },
    "kernelspec": {
      "name": "python3",
      "display_name": "Python 3"
    },
    "language_info": {
      "name": "python"
    }
  },
  "cells": [
    {
      "cell_type": "markdown",
      "metadata": {
        "id": "view-in-github",
        "colab_type": "text"
      },
      "source": [
        "<a href=\"https://colab.research.google.com/github/jkranyak/project_3/blob/main/project3.ipynb\" target=\"_parent\"><img src=\"https://colab.research.google.com/assets/colab-badge.svg\" alt=\"Open In Colab\"/></a>"
      ]
    },
    {
      "cell_type": "markdown",
      "source": [
        "Collect and Prepare the Dataset\n",
        "\n",
        "You'll need a dataset of skin growth images with labels indicating the type of growth.\n",
        "The data should be preprocessed (e.g., resizing, normalization) to be suitable for training a model.\n",
        "\n"
      ],
      "metadata": {
        "id": "M7sdoew8PphW"
      }
    },
    {
      "cell_type": "markdown",
      "source": [
        "Collect and Prepare the Dataset\n",
        "The first step in building an AI model to assess types of skin growths through photographs is to collect and prepare a dataset. This process involves several key activities:\n",
        "\n",
        "SStep 1: API Access\n",
        "API Documentation: First, review the ISIC Archive API documentation. It provides detailed information on how to use the API, including authentication, endpoint descriptions, and examples.\n",
        "Authentication: If required, obtain an API key or access token for authentication. The process should be outlined in the documentation."
      ],
      "metadata": {
        "id": "1_BWFCj4QINb"
      }
    },
    {
      "cell_type": "code",
      "source": [
        "!pip install isic-cli\n"
      ],
      "metadata": {
        "colab": {
          "base_uri": "https://localhost:8080/"
        },
        "id": "aVVKoI12Psz6",
        "outputId": "d429d469-e171-41c8-acff-bcd9f62e05a7"
      },
      "execution_count": 1,
      "outputs": [
        {
          "output_type": "stream",
          "name": "stdout",
          "text": [
            "Requirement already satisfied: isic-cli in /usr/local/lib/python3.10/dist-packages (10.0.0)\n",
            "Requirement already satisfied: click>=8 in /usr/local/lib/python3.10/dist-packages (from isic-cli) (8.1.7)\n",
            "Requirement already satisfied: django-s3-file-field-client>=1.0.0 in /usr/local/lib/python3.10/dist-packages (from isic-cli) (1.0.1)\n",
            "Requirement already satisfied: girder-cli-oauth-client<1.0.0 in /usr/local/lib/python3.10/dist-packages (from isic-cli) (0.4.0)\n",
            "Requirement already satisfied: humanize in /usr/local/lib/python3.10/dist-packages (from isic-cli) (4.7.0)\n",
            "Requirement already satisfied: isic-metadata>=1.2.0 in /usr/local/lib/python3.10/dist-packages (from isic-cli) (1.5.0)\n",
            "Requirement already satisfied: more-itertools in /usr/local/lib/python3.10/dist-packages (from isic-cli) (10.1.0)\n",
            "Requirement already satisfied: packaging in /usr/local/lib/python3.10/dist-packages (from isic-cli) (24.0)\n",
            "Requirement already satisfied: requests in /usr/local/lib/python3.10/dist-packages (from isic-cli) (2.31.0)\n",
            "Requirement already satisfied: retryable-requests in /usr/local/lib/python3.10/dist-packages (from isic-cli) (0.1.2)\n",
            "Requirement already satisfied: rich in /usr/local/lib/python3.10/dist-packages (from isic-cli) (13.7.1)\n",
            "Requirement already satisfied: sentry-sdk in /usr/local/lib/python3.10/dist-packages (from isic-cli) (1.44.1)\n",
            "Requirement already satisfied: tenacity in /usr/local/lib/python3.10/dist-packages (from isic-cli) (8.2.3)\n",
            "Requirement already satisfied: authlib in /usr/local/lib/python3.10/dist-packages (from girder-cli-oauth-client<1.0.0->isic-cli) (1.3.0)\n",
            "Requirement already satisfied: pyxdg in /usr/local/lib/python3.10/dist-packages (from girder-cli-oauth-client<1.0.0->isic-cli) (0.28)\n",
            "Requirement already satisfied: pydantic>=2.4 in /usr/local/lib/python3.10/dist-packages (from isic-metadata>=1.2.0->isic-cli) (2.6.4)\n",
            "Requirement already satisfied: charset-normalizer<4,>=2 in /usr/local/lib/python3.10/dist-packages (from requests->isic-cli) (3.3.2)\n",
            "Requirement already satisfied: idna<4,>=2.5 in /usr/local/lib/python3.10/dist-packages (from requests->isic-cli) (3.6)\n",
            "Requirement already satisfied: urllib3<3,>=1.21.1 in /usr/local/lib/python3.10/dist-packages (from requests->isic-cli) (2.0.7)\n",
            "Requirement already satisfied: certifi>=2017.4.17 in /usr/local/lib/python3.10/dist-packages (from requests->isic-cli) (2024.2.2)\n",
            "Requirement already satisfied: requests-toolbelt in /usr/local/lib/python3.10/dist-packages (from retryable-requests->isic-cli) (1.0.0)\n",
            "Requirement already satisfied: markdown-it-py>=2.2.0 in /usr/local/lib/python3.10/dist-packages (from rich->isic-cli) (3.0.0)\n",
            "Requirement already satisfied: pygments<3.0.0,>=2.13.0 in /usr/local/lib/python3.10/dist-packages (from rich->isic-cli) (2.16.1)\n",
            "Requirement already satisfied: mdurl~=0.1 in /usr/local/lib/python3.10/dist-packages (from markdown-it-py>=2.2.0->rich->isic-cli) (0.1.2)\n",
            "Requirement already satisfied: annotated-types>=0.4.0 in /usr/local/lib/python3.10/dist-packages (from pydantic>=2.4->isic-metadata>=1.2.0->isic-cli) (0.6.0)\n",
            "Requirement already satisfied: pydantic-core==2.16.3 in /usr/local/lib/python3.10/dist-packages (from pydantic>=2.4->isic-metadata>=1.2.0->isic-cli) (2.16.3)\n",
            "Requirement already satisfied: typing-extensions>=4.6.1 in /usr/local/lib/python3.10/dist-packages (from pydantic>=2.4->isic-metadata>=1.2.0->isic-cli) (4.10.0)\n",
            "Requirement already satisfied: cryptography in /usr/local/lib/python3.10/dist-packages (from authlib->girder-cli-oauth-client<1.0.0->isic-cli) (42.0.5)\n",
            "Requirement already satisfied: cffi>=1.12 in /usr/local/lib/python3.10/dist-packages (from cryptography->authlib->girder-cli-oauth-client<1.0.0->isic-cli) (1.16.0)\n",
            "Requirement already satisfied: pycparser in /usr/local/lib/python3.10/dist-packages (from cffi>=1.12->cryptography->authlib->girder-cli-oauth-client<1.0.0->isic-cli) (2.22)\n"
          ]
        }
      ]
    },
    {
      "cell_type": "markdown",
      "source": [
        "Step 2: Query the Dataset\n",
        "Endpoints: Use the API endpoints to query the dataset. Common operations include listing available images, retrieving image metadata, and downloading images.\n",
        "Filtering: Utilize query parameters to filter the dataset based on your criteria, such as diagnosis, image type, or other metadata."
      ],
      "metadata": {
        "id": "oonk5DVpQvQp"
      }
    },
    {
      "cell_type": "code",
      "source": [
        "!pip install isic-cli\n"
      ],
      "metadata": {
        "colab": {
          "base_uri": "https://localhost:8080/"
        },
        "id": "T8BVrTm2Svw1",
        "outputId": "1040f06d-b5e4-433a-fc33-01b0350678ee"
      },
      "execution_count": 2,
      "outputs": [
        {
          "output_type": "stream",
          "name": "stdout",
          "text": [
            "Requirement already satisfied: isic-cli in /usr/local/lib/python3.10/dist-packages (10.0.0)\n",
            "Requirement already satisfied: click>=8 in /usr/local/lib/python3.10/dist-packages (from isic-cli) (8.1.7)\n",
            "Requirement already satisfied: django-s3-file-field-client>=1.0.0 in /usr/local/lib/python3.10/dist-packages (from isic-cli) (1.0.1)\n",
            "Requirement already satisfied: girder-cli-oauth-client<1.0.0 in /usr/local/lib/python3.10/dist-packages (from isic-cli) (0.4.0)\n",
            "Requirement already satisfied: humanize in /usr/local/lib/python3.10/dist-packages (from isic-cli) (4.7.0)\n",
            "Requirement already satisfied: isic-metadata>=1.2.0 in /usr/local/lib/python3.10/dist-packages (from isic-cli) (1.5.0)\n",
            "Requirement already satisfied: more-itertools in /usr/local/lib/python3.10/dist-packages (from isic-cli) (10.1.0)\n",
            "Requirement already satisfied: packaging in /usr/local/lib/python3.10/dist-packages (from isic-cli) (24.0)\n",
            "Requirement already satisfied: requests in /usr/local/lib/python3.10/dist-packages (from isic-cli) (2.31.0)\n",
            "Requirement already satisfied: retryable-requests in /usr/local/lib/python3.10/dist-packages (from isic-cli) (0.1.2)\n",
            "Requirement already satisfied: rich in /usr/local/lib/python3.10/dist-packages (from isic-cli) (13.7.1)\n",
            "Requirement already satisfied: sentry-sdk in /usr/local/lib/python3.10/dist-packages (from isic-cli) (1.44.1)\n",
            "Requirement already satisfied: tenacity in /usr/local/lib/python3.10/dist-packages (from isic-cli) (8.2.3)\n",
            "Requirement already satisfied: authlib in /usr/local/lib/python3.10/dist-packages (from girder-cli-oauth-client<1.0.0->isic-cli) (1.3.0)\n",
            "Requirement already satisfied: pyxdg in /usr/local/lib/python3.10/dist-packages (from girder-cli-oauth-client<1.0.0->isic-cli) (0.28)\n",
            "Requirement already satisfied: pydantic>=2.4 in /usr/local/lib/python3.10/dist-packages (from isic-metadata>=1.2.0->isic-cli) (2.6.4)\n",
            "Requirement already satisfied: charset-normalizer<4,>=2 in /usr/local/lib/python3.10/dist-packages (from requests->isic-cli) (3.3.2)\n",
            "Requirement already satisfied: idna<4,>=2.5 in /usr/local/lib/python3.10/dist-packages (from requests->isic-cli) (3.6)\n",
            "Requirement already satisfied: urllib3<3,>=1.21.1 in /usr/local/lib/python3.10/dist-packages (from requests->isic-cli) (2.0.7)\n",
            "Requirement already satisfied: certifi>=2017.4.17 in /usr/local/lib/python3.10/dist-packages (from requests->isic-cli) (2024.2.2)\n",
            "Requirement already satisfied: requests-toolbelt in /usr/local/lib/python3.10/dist-packages (from retryable-requests->isic-cli) (1.0.0)\n",
            "Requirement already satisfied: markdown-it-py>=2.2.0 in /usr/local/lib/python3.10/dist-packages (from rich->isic-cli) (3.0.0)\n",
            "Requirement already satisfied: pygments<3.0.0,>=2.13.0 in /usr/local/lib/python3.10/dist-packages (from rich->isic-cli) (2.16.1)\n",
            "Requirement already satisfied: mdurl~=0.1 in /usr/local/lib/python3.10/dist-packages (from markdown-it-py>=2.2.0->rich->isic-cli) (0.1.2)\n",
            "Requirement already satisfied: annotated-types>=0.4.0 in /usr/local/lib/python3.10/dist-packages (from pydantic>=2.4->isic-metadata>=1.2.0->isic-cli) (0.6.0)\n",
            "Requirement already satisfied: pydantic-core==2.16.3 in /usr/local/lib/python3.10/dist-packages (from pydantic>=2.4->isic-metadata>=1.2.0->isic-cli) (2.16.3)\n",
            "Requirement already satisfied: typing-extensions>=4.6.1 in /usr/local/lib/python3.10/dist-packages (from pydantic>=2.4->isic-metadata>=1.2.0->isic-cli) (4.10.0)\n",
            "Requirement already satisfied: cryptography in /usr/local/lib/python3.10/dist-packages (from authlib->girder-cli-oauth-client<1.0.0->isic-cli) (42.0.5)\n",
            "Requirement already satisfied: cffi>=1.12 in /usr/local/lib/python3.10/dist-packages (from cryptography->authlib->girder-cli-oauth-client<1.0.0->isic-cli) (1.16.0)\n",
            "Requirement already satisfied: pycparser in /usr/local/lib/python3.10/dist-packages (from cffi>=1.12->cryptography->authlib->girder-cli-oauth-client<1.0.0->isic-cli) (2.22)\n"
          ]
        }
      ]
    },
    {
      "cell_type": "code",
      "source": [
        "# List available collections\n",
        "!isic collection list"
      ],
      "metadata": {
        "colab": {
          "base_uri": "https://localhost:8080/"
        },
        "id": "b59PypIVQy3k",
        "outputId": "856329d8-4736-4c7a-c445-c66139d221c7"
      },
      "execution_count": 3,
      "outputs": [
        {
          "output_type": "stream",
          "name": "stdout",
          "text": [
            "┏━━━━━┳━━━━━━━━━━━━━━━━━━━━━━━━━━━━━━━━━━━━━━━━━━━━━━━┳━━━━━━━━┳━━━━━━━━┳━━━━━━━━┳━━━━━━━━━━━━━━━━━┓\n",
            "┃\u001b[1m \u001b[0m\u001b[1mID \u001b[0m\u001b[1m \u001b[0m┃\u001b[1m \u001b[0m\u001b[1mName                                         \u001b[0m\u001b[1m \u001b[0m┃\u001b[1m \u001b[0m\u001b[1mPublic\u001b[0m\u001b[1m \u001b[0m┃\u001b[1m \u001b[0m\u001b[1mPinned\u001b[0m\u001b[1m \u001b[0m┃\u001b[1m \u001b[0m\u001b[1mLocked\u001b[0m\u001b[1m \u001b[0m┃\u001b[1m \u001b[0m\u001b[1mDOI            \u001b[0m\u001b[1m \u001b[0m┃\n",
            "┡━━━━━╇━━━━━━━━━━━━━━━━━━━━━━━━━━━━━━━━━━━━━━━━━━━━━━━╇━━━━━━━━╇━━━━━━━━╇━━━━━━━━╇━━━━━━━━━━━━━━━━━┩\n",
            "│ 249 │ BCN20000                                      │ True   │ False  │ False  │ None            │\n",
            "│ 61  │ Challenge 2016: Test                          │ True   │ True   │ True   │ None            │\n",
            "│ 74  │ Challenge 2016: Training                      │ True   │ True   │ True   │ None            │\n",
            "│ 69  │ Challenge 2017: Test                          │ True   │ True   │ True   │ None            │\n",
            "│ 60  │ Challenge 2017: Training                      │ True   │ True   │ True   │ None            │\n",
            "│ 71  │ Challenge 2017: Validation                    │ True   │ True   │ True   │ None            │\n",
            "│ 64  │ Challenge 2018: Task 1-2: Test                │ True   │ True   │ True   │ None            │\n",
            "│ 63  │ Challenge 2018: Task 1-2: Training            │ True   │ True   │ True   │ None            │\n",
            "│ 62  │ Challenge 2018: Task 1-2: Validation          │ True   │ True   │ True   │ None            │\n",
            "│ 67  │ Challenge 2018: Task 3: Test                  │ True   │ True   │ True   │ None            │\n",
            "│ 66  │ Challenge 2018: Task 3: Training              │ True   │ True   │ True   │ None            │\n",
            "│ 73  │ Challenge 2018: Task 3: Validation            │ True   │ True   │ True   │ None            │\n",
            "│ 65  │ Challenge 2019: Training                      │ True   │ True   │ True   │ None            │\n",
            "│ 70  │ Challenge 2020: Training                      │ True   │ True   │ True   │ None            │\n",
            "│ 97  │ Collection for ISBI 2016: 100 Lesion          │ True   │ False  │ True   │ None            │\n",
            "│     │ Classification                                │        │        │        │                 │\n",
            "│ 216 │ Consecutive biopsies for melanoma across year │ True   │ False  │ True   │ 10.34970/151324 │\n",
            "│     │ 2020                                          │        │        │        │                 │\n",
            "│ 75  │ Consumer AI apps                              │ True   │ False  │ True   │ 10.34970/401946 │\n",
            "│ 166 │ EASY Dermoscopy Expert Agreement Study        │ True   │ False  │ False  │ None            │\n",
            "│ 212 │ HAM10000                                      │ True   │ True   │ True   │ None            │\n",
            "│ 175 │ HIBA Skin Lesions                             │ True   │ False  │ True   │ 10.34970/559884 │\n",
            "│ 251 │ Hospital Italiano de Buenos Aires - Skin      │ True   │ False  │ True   │ 10.34970/587329 │\n",
            "│     │ Lesions Images (2019-2022)                    │        │        │        │                 │\n",
            "│ 176 │ Hospital Italiano de Buenos Aires Skin        │ True   │ False  │ True   │ 10.34970/432362 │\n",
            "│     │ Lesions                                       │        │        │        │                 │\n",
            "│ 217 │ Longitudinal overview images of posterior     │ True   │ False  │ True   │ 10.34970/630662 │\n",
            "│     │ trunks                                        │        │        │        │                 │\n",
            "│ 289 │ MSK-1                                         │ True   │ False  │ True   │ None            │\n",
            "│ 290 │ MSK-2                                         │ True   │ False  │ True   │ None            │\n",
            "│ 288 │ MSK-3                                         │ True   │ False  │ True   │ None            │\n",
            "│ 287 │ MSK-4                                         │ True   │ False  │ True   │ None            │\n",
            "│ 286 │ MSK-5                                         │ True   │ False  │ True   │ None            │\n",
            "│ 163 │ MSKCC Consecutive biopsies across year        │ True   │ False  │ True   │ None            │\n",
            "│     │ 2020_cohort                                   │        │        │        │                 │\n",
            "│ 77  │ Melanocytic lesions used for dermoscopic      │ True   │ False  │ True   │ 10.34970/108631 │\n",
            "│     │ feature annotations                           │        │        │        │                 │\n",
            "│ 294 │ Melanoma and Nevus Dermoscopy Images with     │ True   │ False  │ True   │ 10.34970/277003 │\n",
            "│     │ Confirmed Histopathological Diagnosis         │        │        │        │                 │\n",
            "│ 215 │ Newly-acquired and longer-existing acquired   │ True   │ False  │ True   │ 10.34970/408649 │\n",
            "│     │ melanoma and nevi                             │        │        │        │                 │\n",
            "│ 218 │ PROVe-AI                                      │ True   │ True   │ True   │ 10.34970/576276 │\n",
            "│ 328 │ Repeated Dermoscopic Images of Melanocytic    │ True   │ False  │ True   │ 10.34970/560760 │\n",
            "│     │ Lesions                                       │        │        │        │                 │\n",
            "│ 293 │ SONIC                                         │ True   │ False  │ True   │ None            │\n",
            "│ 292 │ UDA-1                                         │ True   │ False  │ True   │ None            │\n",
            "│ 291 │ UDA-2                                         │ True   │ False  │ True   │ None            │\n",
            "│ 285 │ lesions                                       │ True   │ False  │ False  │ None            │\n",
            "│ 172 │ screenshot_public_230207                      │ True   │ False  │ False  │ None            │\n",
            "└─────┴───────────────────────────────────────────────┴────────┴────────┴────────┴─────────────────┘\n"
          ]
        }
      ]
    },
    {
      "cell_type": "markdown",
      "source": [
        "Step 3: Download Images and Metadata\n",
        "Batch Processing: Write a script to automatically download batches of images and their associated metadata.\n",
        "\n",
        "Data Storage will utilize wounting a drive in google and creating files for the train, test, and validation images."
      ],
      "metadata": {
        "id": "_WoiQcyiQzVM"
      }
    },
    {
      "cell_type": "code",
      "source": [
        "! isic user login"
      ],
      "metadata": {
        "colab": {
          "base_uri": "https://localhost:8080/"
        },
        "id": "dW33o_VNdZdO",
        "outputId": "eea23527-f662-423a-fb10-eaa2f7488a1c"
      },
      "execution_count": 4,
      "outputs": [
        {
          "output_type": "stream",
          "name": "stdout",
          "text": [
            "Hello jessekranyak@gmail.com!\n"
          ]
        }
      ]
    },
    {
      "cell_type": "code",
      "source": [
        "from google.colab import drive\n",
        "drive.mount('/content/drive', force_remount=True)\n"
      ],
      "metadata": {
        "colab": {
          "base_uri": "https://localhost:8080/"
        },
        "id": "LEd82jt9dHqV",
        "outputId": "554519c8-fbe0-4c5e-b74e-5a6a0c6c5144"
      },
      "execution_count": 5,
      "outputs": [
        {
          "output_type": "stream",
          "name": "stdout",
          "text": [
            "Mounted at /content/drive\n"
          ]
        }
      ]
    },
    {
      "cell_type": "code",
      "source": [
        "!isic image download --search \"\" --collections \"60\" --limit 0 myimages/"
      ],
      "metadata": {
        "colab": {
          "base_uri": "https://localhost:8080/"
        },
        "id": "lUqlrg2KQze9",
        "outputId": "7a38d245-ba2a-4715-f851-cf7db6497adf"
      },
      "execution_count": 8,
      "outputs": [
        {
          "output_type": "stream",
          "name": "stdout",
          "text": [
            "\u001b[2KDownloading images (and metadata) (2,000 total) \u001b[90m━━━━━━━━━━━━━━━━━━━━━━━━━━━━━━━━━━━━━━━\u001b[0m \u001b[35m100%\u001b[0m \u001b[36m0:00:00\u001b[0m\n",
            "\u001b[?25h\n",
            "\u001b[32mSuccessfully downloaded 2,000 images to myimages/.\u001b[0m\n",
            "\u001b[32mSuccessfully wrote 2,000 metadata records to myimages/metadata.csv.\u001b[0m\n",
            "\u001b[32mSuccessfully wrote attributions to myimages/attribution.txt.\u001b[0m\n",
            "\u001b[32mSuccessfully wrote 1 license(s) to myimages/licenses.\u001b[0m\n"
          ]
        }
      ]
    },
    {
      "cell_type": "code",
      "source": [
        "!isic image download --search \"\" --collections \"69\" --limit 0 myimages/"
      ],
      "metadata": {
        "colab": {
          "base_uri": "https://localhost:8080/"
        },
        "id": "JPdSl2BuxeHD",
        "outputId": "b4f50bef-d051-4f2c-f87e-6b66dbc57b1c"
      },
      "execution_count": 10,
      "outputs": [
        {
          "output_type": "stream",
          "name": "stdout",
          "text": [
            "\u001b[2KDownloading images (and metadata) (600 total) \u001b[90m━━━━━━━━━━━━━━━━━━━━━━━━━━━━━━━━━━━━━━━━\u001b[0m \u001b[35m100%\u001b[0m \u001b[36m0:00:00\u001b[0m\n",
            "\u001b[?25h\n",
            "\u001b[32mSuccessfully downloaded 600 images to myimages/.\u001b[0m\n",
            "\u001b[32mSuccessfully wrote 600 metadata records to myimages/metadata.csv.\u001b[0m\n",
            "\u001b[32mSuccessfully wrote attributions to myimages/attribution.txt.\u001b[0m\n",
            "\u001b[32mSuccessfully wrote 1 license(s) to myimages/licenses.\u001b[0m\n"
          ]
        }
      ]
    },
    {
      "cell_type": "code",
      "source": [
        "!isic image download --search \"\" --collections \"71\" --limit 0 myimages/"
      ],
      "metadata": {
        "colab": {
          "base_uri": "https://localhost:8080/"
        },
        "id": "dFxBl0yvxePs",
        "outputId": "2318ab86-8683-42dc-df08-c13c422d4469"
      },
      "execution_count": 12,
      "outputs": [
        {
          "output_type": "stream",
          "name": "stdout",
          "text": [
            "\u001b[2KDownloading images (and metadata) (150 total) \u001b[90m━━━━━━━━━━━━━━━━━━━━━━━━━━━━━━━━━━━━━━━━\u001b[0m \u001b[35m100%\u001b[0m \u001b[36m0:00:00\u001b[0m\n",
            "\u001b[?25h\n",
            "\u001b[32mSuccessfully downloaded 150 images to myimages/.\u001b[0m\n",
            "\u001b[32mSuccessfully wrote 150 metadata records to myimages/metadata.csv.\u001b[0m\n",
            "\u001b[32mSuccessfully wrote attributions to myimages/attribution.txt.\u001b[0m\n",
            "\u001b[32mSuccessfully wrote 1 license(s) to myimages/licenses.\u001b[0m\n"
          ]
        }
      ]
    },
    {
      "cell_type": "code",
      "source": [
        "import os\n",
        "\n",
        "# Define the path to the directory in Google Drive\n",
        "google_drive_directory = '/content/drive/My Drive/ISIC_2017/'\n",
        "\n",
        "# List the contents of each directory\n",
        "for directory_name in os.listdir(google_drive_directory):\n",
        "    directory_path = os.path.join(google_drive_directory, directory_name)\n",
        "    print(f\"Contents of {directory_name}:\")\n",
        "    print(os.listdir(directory_path))\n",
        "    print()\n"
      ],
      "metadata": {
        "colab": {
          "base_uri": "https://localhost:8080/"
        },
        "id": "1pGLWjoBzZMx",
        "outputId": "5ed6b941-3688-4a4a-b44e-caf295f4131d"
      },
      "execution_count": 17,
      "outputs": [
        {
          "output_type": "stream",
          "name": "stdout",
          "text": [
            "Contents of training:\n",
            "[]\n",
            "\n",
            "Contents of validation:\n",
            "[]\n",
            "\n",
            "Contents of test:\n",
            "[]\n",
            "\n",
            "Contents of myimages:\n",
            "['ISIC_0014930.JPG', 'ISIC_0013235.JPG', 'ISIC_0010063.JPG', 'ISIC_0010475.JPG', 'ISIC_0014778.JPG', 'ISIC_0013227.JPG', 'ISIC_0002975.JPG', 'ISIC_0011213.JPG', 'ISIC_0009891.JPG', 'ISIC_0014923.JPG', 'ISIC_0010341.JPG', 'ISIC_0010078.JPG', 'ISIC_0012117.JPG', 'ISIC_0000216.JPG', 'ISIC_0014855.JPG', 'ISIC_0000044.JPG', 'ISIC_0009344.JPG', 'attribution.txt', 'ISIC_0012118.JPG', 'ISIC_0012664.JPG', 'ISIC_0014061.JPG', 'ISIC_0009919.JPG', 'ISIC_0010565.JPG', 'ISIC_0000471.JPG', 'ISIC_0011163.JPG', 'ISIC_0014410.JPG', 'ISIC_0012148.JPG', 'ISIC_0013023.JPG', 'ISIC_0013437.JPG', 'ISIC_0010566.JPG', 'ISIC_0010042.JPG', 'ISIC_0000078.JPG', 'ISIC_0000535.JPG', 'ISIC_0000043.JPG', 'ISIC_0000133.JPG', 'ISIC_0012459.JPG', 'ISIC_0009165.JPG', 'ISIC_0009902.JPG', 'ISIC_0010471.JPG', 'ISIC_0009881.JPG', 'ISIC_0014173.JPG', 'ISIC_0012549.JPG', 'ISIC_0013910.JPG', 'ISIC_0014658.JPG', 'ISIC_0013896.JPG', 'ISIC_0014699.JPG', 'ISIC_0000254.JPG', 'ISIC_0009982.JPG', 'ISIC_0011211.JPG', 'ISIC_0012227.JPG', 'ISIC_0015170.JPG', 'ISIC_0000330.JPG', 'ISIC_0000494.JPG', 'ISIC_0014515.JPG', 'ISIC_0000139.JPG', 'ISIC_0013360.JPG', 'ISIC_0000075.JPG', 'ISIC_0014763.JPG', 'ISIC_0012891.JPG', 'ISIC_0010051.JPG', 'ISIC_0012877.JPG', 'ISIC_0014646.JPG', 'ISIC_0010861.JPG', 'ISIC_0013865.JPG', 'ISIC_0009971.JPG', 'ISIC_0013075.JPG', 'ISIC_0013839.JPG', 'ISIC_0013257.JPG', 'ISIC_0013831.JPG', 'ISIC_0014501.JPG', 'ISIC_0000310.JPG', 'ISIC_0014433.JPG', 'ISIC_0013275.JPG', 'ISIC_0013709.JPG', 'ISIC_0000449.JPG', 'ISIC_0014133.JPG', 'ISIC_0000275.JPG', 'ISIC_0012271.JPG', 'ISIC_0000294.JPG', 'ISIC_0012250.JPG', 'ISIC_0014615.JPG', 'ISIC_0001148.JPG', 'ISIC_0012952.JPG', 'ISIC_0000520.JPG', 'ISIC_0010089.JPG', 'ISIC_0012281.JPG', 'ISIC_0013685.JPG', 'ISIC_0013096.JPG', 'ISIC_0007557.JPG', 'ISIC_0014581.JPG', 'ISIC_0011199.JPG', 'ISIC_0010332.JPG', 'ISIC_0011397.JPG', 'ISIC_0014802.JPG', 'ISIC_0013223.JPG', 'ISIC_0013805.JPG', 'ISIC_0012333.JPG', 'ISIC_0009504.JPG', 'ISIC_0013071.JPG', 'ISIC_0012740.JPG', 'ISIC_0008507.JPG', 'ISIC_0010850.JPG', 'ISIC_0000485.JPG', 'ISIC_0001105.JPG', 'ISIC_0000478.JPG', 'ISIC_0011393.JPG', 'ISIC_0009950.JPG', 'ISIC_0013383.JPG', 'ISIC_0002287.JPG', 'ISIC_0000384.JPG', 'ISIC_0011387.JPG', 'ISIC_0014869.JPG', 'ISIC_0013580.JPG', 'ISIC_0013594.JPG', 'ISIC_0012811.JPG', 'ISIC_0013492.JPG', 'ISIC_0012487.JPG', 'ISIC_0000317.JPG', 'ISIC_0014771.JPG', 'ISIC_0014775.JPG', 'ISIC_0013652.JPG', 'ISIC_0007475.JPG', 'ISIC_0014866.JPG', 'ISIC_0014748.JPG', 'ISIC_0002836.JPG', 'ISIC_0009935.JPG', 'ISIC_0013012.JPG', 'ISIC_0000361.JPG', 'ISIC_0010069.JPG', 'ISIC_0000253.JPG', 'ISIC_0010568.JPG', 'ISIC_0013173.JPG', 'ISIC_0012823.JPG', 'ISIC_0013783.JPG', 'ISIC_0012318.JPG', 'ISIC_0000077.JPG', 'ISIC_0011095.JPG', 'ISIC_0012413.JPG', 'ISIC_0000900.JPG', 'ISIC_0000419.JPG', 'ISIC_0014151.JPG', 'ISIC_0014229.JPG', 'ISIC_0012253.JPG', 'ISIC_0013742.JPG', 'ISIC_0013517.JPG', 'ISIC_0005620.JPG', 'ISIC_0000010.JPG', 'ISIC_0015220.JPG', 'ISIC_0013329.JPG', 'ISIC_0000163.JPG', 'ISIC_0009921.JPG', 'ISIC_0000239.JPG', 'ISIC_0000104.JPG', 'ISIC_0000059.JPG', 'ISIC_0000111.JPG', 'ISIC_0010368.JPG', 'ISIC_0010844.JPG', 'ISIC_0008600.JPG', 'ISIC_0010320.JPG', 'ISIC_0014591.JPG', 'ISIC_0014576.JPG', 'ISIC_0009897.JPG', 'ISIC_0012663.JPG', 'ISIC_0009898.JPG', 'ISIC_0012298.JPG', 'ISIC_0000184.JPG', 'ISIC_0013572.JPG', 'ISIC_0011362.JPG', 'ISIC_0013595.JPG', 'ISIC_0010032.JPG', 'ISIC_0011326.JPG', 'ISIC_0000488.JPG', 'ISIC_0011366.JPG', 'ISIC_0014570.JPG', 'ISIC_0011210.JPG', 'ISIC_0011204.JPG', 'ISIC_0009936.JPG', 'ISIC_0000122.JPG', 'ISIC_0010358.JPG', 'ISIC_0013394.JPG', 'ISIC_0000276.JPG', 'ISIC_0010557.JPG', 'ISIC_0013970.JPG', 'ISIC_0000217.JPG', 'ISIC_0013558.JPG', 'ISIC_0009953.JPG', 'ISIC_0014169.JPG', 'ISIC_0000498.JPG', 'ISIC_0000098.JPG', 'ISIC_0012889.JPG', 'ISIC_0015038.JPG', 'ISIC_0011367.JPG', 'ISIC_0010014.JPG', 'ISIC_0013935.JPG', 'ISIC_0012433.JPG', 'ISIC_0000328.JPG', 'ISIC_0000211.JPG', 'ISIC_0012998.JPG', 'ISIC_0000293.JPG', 'ISIC_0000999.JPG', 'ISIC_0013355.JPG', 'ISIC_0000374.JPG', 'ISIC_0012704.JPG', 'ISIC_0012205.JPG', 'ISIC_0013552.JPG', 'ISIC_0010016.JPG', 'ISIC_0010077.JPG', 'ISIC_0014933.JPG', 'ISIC_0000463.JPG', 'ISIC_0011157.JPG', 'ISIC_0009973.JPG', 'ISIC_0010593.JPG', 'ISIC_0013922.JPG', 'ISIC_0013048.JPG', 'ISIC_0013815.JPG', 'ISIC_0014108.JPG', 'ISIC_0000542.JPG', 'ISIC_0012945.JPG', 'ISIC_0012259.JPG', 'ISIC_0013840.JPG', 'ISIC_0000143.JPG', 'ISIC_0013000.JPG', 'ISIC_0000532.JPG', 'ISIC_0010858.JPG', 'ISIC_0013819.JPG', 'ISIC_0011338.JPG', 'ISIC_0013844.JPG', 'ISIC_0012526.JPG', 'ISIC_0000252.JPG', 'ISIC_0013610.JPG', 'ISIC_0014490.JPG', 'ISIC_0012726.JPG', 'ISIC_0000323.JPG', 'ISIC_0014795.JPG', 'ISIC_0011107.JPG', 'ISIC_0012179.JPG', 'ISIC_0000030.JPG', 'ISIC_0013918.JPG', 'ISIC_0013864.JPG', 'ISIC_0010054.JPG', 'ISIC_0013749.JPG', 'ISIC_0007038.JPG', 'ISIC_0014696.JPG', 'ISIC_0000036.JPG', 'ISIC_0014013.JPG', 'ISIC_0012653.JPG', 'ISIC_0000474.JPG', 'ISIC_0000436.JPG', 'ISIC_0010064.JPG', 'ISIC_0012940.JPG', 'ISIC_0000181.JPG', 'ISIC_0002647.JPG', 'ISIC_0014726.JPG', 'ISIC_0003056.JPG', 'ISIC_0014922.JPG', 'ISIC_0000508.JPG', 'ISIC_0000247.JPG', 'ISIC_0001960.JPG', 'ISIC_0009860.JPG', 'ISIC_0013200.JPG', 'ISIC_0012230.JPG', 'ISIC_0013687.JPG', 'ISIC_0000489.JPG', 'ISIC_0013024.JPG', 'ISIC_0013737.JPG', 'ISIC_0013065.JPG', 'ISIC_0011102.JPG', 'ISIC_0015109.JPG', 'ISIC_0000306.JPG', 'ISIC_0013500.JPG', 'ISIC_0013874.JPG', 'ISIC_0014216.JPG', 'ISIC_0000418.JPG', 'ISIC_0012473.JPG', 'ISIC_0014337.JPG', 'ISIC_0012495.JPG', 'ISIC_0013087.JPG', 'ISIC_0015168.JPG', 'ISIC_0000245.JPG', 'ISIC_0012710.JPG', 'ISIC_0000038.JPG', 'ISIC_0013972.JPG', 'ISIC_0010362.JPG', 'ISIC_0010171.JPG', 'ISIC_0010340.JPG', 'ISIC_0000042.JPG', 'ISIC_0010254.JPG', 'ISIC_0010443.JPG', 'ISIC_0000154.JPG', 'ISIC_0000159.JPG', 'ISIC_0000171.JPG', 'ISIC_0011296.JPG', 'ISIC_0000403.JPG', 'ISIC_0000191.JPG', 'ISIC_0014502.JPG', 'ISIC_0013080.JPG', 'ISIC_0011144.JPG', 'ISIC_0000223.JPG', 'ISIC_0000102.JPG', 'ISIC_0000289.JPG', 'ISIC_0013174.JPG', 'ISIC_0000028.JPG', 'ISIC_0010606.JPG', 'ISIC_0012214.JPG', 'ISIC_0013456.JPG', 'ISIC_0000495.JPG', 'ISIC_0014925.JPG', 'ISIC_0014191.JPG', 'ISIC_0014529.JPG', 'ISIC_0012840.JPG', 'ISIC_0009974.JPG', 'ISIC_0009998.JPG', 'ISIC_0012527.JPG', 'ISIC_0013425.JPG', 'ISIC_0008626.JPG', 'ISIC_0013621.JPG', 'ISIC_0011112.JPG', 'ISIC_0013886.JPG', 'ISIC_0011227.JPG', 'ISIC_0014547.JPG', 'ISIC_0012309.JPG', 'ISIC_0014525.JPG', 'ISIC_0010180.JPG', 'ISIC_0014099.JPG', 'ISIC_0011218.JPG', 'ISIC_0012856.JPG', 'ISIC_0014920.JPG', 'ISIC_0000212.JPG', 'ISIC_0013134.JPG', 'ISIC_0010093.JPG', 'ISIC_0004985.JPG', 'ISIC_0009993.JPG', 'ISIC_0015005.JPG', 'ISIC_0010011.JPG', 'ISIC_0014156.JPG', 'ISIC_0014166.JPG', 'ISIC_0000503.JPG', 'ISIC_0013762.JPG', 'ISIC_0000541.JPG', 'ISIC_0012518.JPG', 'ISIC_0000538.JPG', 'ISIC_0014422.JPG', 'ISIC_0010607.JPG', 'ISIC_0010102.JPG', 'ISIC_0000547.JPG', 'ISIC_0005548.JPG', 'ISIC_0002459.JPG', 'ISIC_0012182.JPG', 'ISIC_0013428.JPG', 'ISIC_0010558.JPG', 'ISIC_0009991.JPG', 'ISIC_0000370.JPG', 'ISIC_0012677.JPG', 'ISIC_0000367.JPG', 'ISIC_0012835.JPG', 'ISIC_0013326.JPG', 'ISIC_0000225.JPG', 'ISIC_0012260.JPG', 'ISIC_0000151.JPG', 'ISIC_0012285.JPG', 'ISIC_0000476.JPG', 'ISIC_0012156.JPG', 'ISIC_0011177.JPG', 'ISIC_0014557.JPG', 'ISIC_0005000.JPG', 'ISIC_0000517.JPG', 'ISIC_0003728.JPG', 'ISIC_0010463.JPG', 'ISIC_0009915.JPG', 'ISIC_0013094.JPG', 'ISIC_0014393.JPG', 'ISIC_0010244.JPG', 'ISIC_0012203.JPG', 'ISIC_0012455.JPG', 'ISIC_0000067.JPG', 'ISIC_0012406.JPG', 'ISIC_0013712.JPG', 'ISIC_0008552.JPG', 'ISIC_0015182.JPG', 'ISIC_0013981.JPG', 'ISIC_0000531.JPG', 'ISIC_0000047.JPG', 'ISIC_0000496.JPG', 'ISIC_0012539.JPG', 'ISIC_0014804.JPG', 'ISIC_0000263.JPG', 'ISIC_0000129.JPG', 'ISIC_0006193.JPG', 'ISIC_0010339.JPG', 'ISIC_0000467.JPG', 'ISIC_0012810.JPG', 'ISIC_0009871.JPG', 'ISIC_0010337.JPG', 'ISIC_0010598.JPG', 'ISIC_0010212.JPG', 'ISIC_0010597.JPG', 'ISIC_0000227.JPG', 'ISIC_0012675.JPG', 'ISIC_0000018.JPG', 'ISIC_0013971.JPG', 'ISIC_0014593.JPG', 'ISIC_0010589.JPG', 'ISIC_0012966.JPG', 'ISIC_0012090.JPG', 'ISIC_0012544.JPG', 'ISIC_0014441.JPG', 'ISIC_0013942.JPG', 'ISIC_0013933.JPG', 'ISIC_0013802.JPG', 'ISIC_0010573.JPG', 'ISIC_0014092.JPG', 'ISIC_0013059.JPG', 'ISIC_0000120.JPG', 'ISIC_0000288.JPG', 'ISIC_0011339.JPG', 'ISIC_0010569.JPG', 'ISIC_0000264.JPG', 'ISIC_0009987.JPG', 'ISIC_0000413.JPG', 'ISIC_0010371.JPG', 'ISIC_0013213.JPG', 'ISIC_0002353.JPG', 'ISIC_0000061.JPG', 'ISIC_0014745.JPG', 'ISIC_0013890.JPG', 'ISIC_0010025.JPG', 'ISIC_0013320.JPG', 'ISIC_0010592.JPG', 'ISIC_0008659.JPG', 'ISIC_0013433.JPG', 'ISIC_0014897.JPG', 'ISIC_0011085.JPG', 'ISIC_0000268.JPG', 'ISIC_0014793.JPG', 'ISIC_0010492.JPG', 'ISIC_0014715.JPG', 'ISIC_0014127.JPG', 'ISIC_0000368.JPG', 'ISIC_0010590.JPG', 'ISIC_0014583.JPG', 'ISIC_0000529.JPG', 'ISIC_0000219.JPG', 'ISIC_0000554.JPG', 'ISIC_0010249.JPG', 'ISIC_0010863.JPG', 'ISIC_0013335.JPG', 'ISIC_0000353.JPG', 'ISIC_0009938.JPG', 'ISIC_0012905.JPG', 'ISIC_0000091.JPG', 'ISIC_0012363.JPG', 'ISIC_0010233.JPG', 'ISIC_0006021.JPG', 'ISIC_0012232.JPG', 'ISIC_0014805.JPG', 'ISIC_0000357.JPG', 'ISIC_0014273.JPG', 'ISIC_0000282.JPG', 'ISIC_0010261.JPG', 'ISIC_0015032.JPG', 'ISIC_0012464.JPG', 'ISIC_0012777.JPG', 'ISIC_0013639.JPG', 'ISIC_0012135.JPG', 'ISIC_0013832.JPG', 'ISIC_0011352.JPG', 'ISIC_0013034.JPG', 'ISIC_0012696.JPG', 'ISIC_0010456.JPG', 'ISIC_0013398.JPG', 'ISIC_0013155.JPG', 'ISIC_0012291.JPG', 'ISIC_0012982.JPG', 'ISIC_0012981.JPG', 'ISIC_0000244.JPG', 'ISIC_0010364.JPG', 'ISIC_0013845.JPG', 'ISIC_0014730.JPG', 'ISIC_0000359.JPG', 'ISIC_0000516.JPG', 'ISIC_0012511.JPG', 'ISIC_0014158.JPG', 'ISIC_0014848.JPG', 'ISIC_0012141.JPG', 'ISIC_0000109.JPG', 'ISIC_0013946.JPG', 'ISIC_0011398.JPG', 'ISIC_0000003.JPG', 'ISIC_0012397.JPG', 'ISIC_0013106.JPG', 'ISIC_0010595.JPG', 'ISIC_0000358.JPG', 'ISIC_0002879.JPG', 'ISIC_0000423.JPG', 'ISIC_0010591.JPG', 'ISIC_0000457.JPG', 'ISIC_0000220.JPG', 'ISIC_0011229.JPG', 'ISIC_0014860.JPG', 'ISIC_0012673.JPG', 'ISIC_0010231.JPG', 'ISIC_0009882.JPG', 'ISIC_0000096.JPG', 'ISIC_0000021.JPG', 'ISIC_0010346.JPG', 'ISIC_0013603.JPG', 'ISIC_0012999.JPG', 'ISIC_0009035.JPG', 'ISIC_0010081.JPG', 'ISIC_0000086.JPG', 'ISIC_0000509.JPG', 'ISIC_0000017.JPG', 'ISIC_0013166.JPG', 'ISIC_0012212.JPG', 'ISIC_0012452.JPG', 'ISIC_0014850.JPG', 'ISIC_0014684.JPG', 'ISIC_0010460.JPG', 'ISIC_0014526.JPG', 'ISIC_0000082.JPG', 'ISIC_0014062.JPG', 'ISIC_0011126.JPG', 'ISIC_0000097.JPG', 'ISIC_0000338.JPG', 'ISIC_0013830.JPG', 'ISIC_0012930.JPG', 'ISIC_0014714.JPG', 'ISIC_0008280.JPG', 'ISIC_0013488.JPG', 'ISIC_0009961.JPG', 'ISIC_0009962.JPG', 'ISIC_0014475.JPG', 'ISIC_0014317.JPG', 'ISIC_0010062.JPG', 'ISIC_0012697.JPG', 'ISIC_0000135.JPG', 'ISIC_0012512.JPG', 'ISIC_0010066.JPG', 'ISIC_0000119.JPG', 'ISIC_0000093.JPG', 'ISIC_0012814.JPG', 'ISIC_0012108.JPG', 'ISIC_0010584.JPG', 'ISIC_0011297.JPG', 'ISIC_0000203.JPG', 'ISIC_0012865.JPG', 'ISIC_0000169.JPG', 'ISIC_0010168.JPG', 'ISIC_0004309.JPG', 'ISIC_0011115.JPG', 'ISIC_0013526.JPG', 'ISIC_0013118.JPG', 'ISIC_0010036.JPG', 'ISIC_0000514.JPG', 'ISIC_0012792.JPG', 'ISIC_0000221.JPG', 'ISIC_0010234.JPG', 'ISIC_0012902.JPG', 'ISIC_0014527.JPG', 'ISIC_0014179.JPG', 'ISIC_0012682.JPG', 'ISIC_0009951.JPG', 'ISIC_0012828.JPG', 'ISIC_0013719.JPG', 'ISIC_0014222.JPG', 'ISIC_0013356.JPG', 'ISIC_0010191.JPG', 'ISIC_0012735.JPG', 'ISIC_0014238.JPG', 'ISIC_0000237.JPG', 'ISIC_0014797.JPG', 'ISIC_0014430.JPG', 'ISIC_0010044.JPG', 'ISIC_0014929.JPG', 'ISIC_0000262.JPG', 'ISIC_0014779.JPG', 'ISIC_0000242.JPG', 'ISIC_0012290.JPG', 'ISIC_0000383.JPG', 'ISIC_0008879.JPG', 'ISIC_0013731.JPG', 'ISIC_0011361.JPG', 'ISIC_0000027.JPG', 'ISIC_0000543.JPG', 'ISIC_0010862.JPG', 'ISIC_0014683.JPG', 'ISIC_0000080.JPG', 'ISIC_0014808.JPG', 'ISIC_0000255.JPG', 'ISIC_0011219.JPG', 'ISIC_0012655.JPG', 'ISIC_0009889.JPG', 'ISIC_0013983.JPG', 'ISIC_0000002.JPG', 'ISIC_0013330.JPG', 'ISIC_0011336.JPG', 'ISIC_0010213.JPG', 'ISIC_0013371.JPG', 'ISIC_0012679.JPG', 'ISIC_0013136.JPG', 'ISIC_0014225.JPG', 'ISIC_0014272.JPG', 'ISIC_0013803.JPG', 'ISIC_0013876.JPG', 'ISIC_0000525.JPG', 'ISIC_0000040.JPG', 'ISIC_0009979.JPG', 'ISIC_0009946.JPG', 'ISIC_0014911.JPG', 'ISIC_0009930.JPG', 'ISIC_0000313.JPG', 'ISIC_0014650.JPG', 'ISIC_0006800.JPG', 'ISIC_0013777.JPG', 'ISIC_0011173.JPG', 'ISIC_0004715.JPG', 'ISIC_0000302.JPG', 'ISIC_0013921.JPG', 'ISIC_0013047.JPG', 'ISIC_0014825.JPG', 'ISIC_0000311.JPG', 'ISIC_0011135.JPG', 'ISIC_0014397.JPG', 'ISIC_0012105.JPG', 'ISIC_0013370.JPG', 'ISIC_0014834.JPG', 'ISIC_0013172.JPG', 'ISIC_0014082.JPG', 'ISIC_0015233.JPG', 'ISIC_0014846.JPG', 'ISIC_0010317.JPG', 'ISIC_0010367.JPG', 'ISIC_0012961.JPG', 'ISIC_0010479.JPG', 'ISIC_0014667.JPG', 'ISIC_0013147.JPG', 'ISIC_0000110.JPG', 'ISIC_0013403.JPG', 'ISIC_0013490.JPG', 'ISIC_0012706.JPG', 'ISIC_0010247.JPG', 'ISIC_0015158.JPG', 'ISIC_0002374.JPG', 'ISIC_0000519.JPG', 'ISIC_0013443.JPG', 'ISIC_0005555.JPG', 'ISIC_0000377.JPG', 'ISIC_0000029.JPG', 'ISIC_0012348.JPG', 'ISIC_0014516.JPG', 'ISIC_0014197.JPG', 'ISIC_0012790.JPG', 'ISIC_0012325.JPG', 'ISIC_0012772.JPG', 'ISIC_0012351.JPG', 'ISIC_0000055.JPG', 'ISIC_0004115.JPG', 'ISIC_0009868.JPG', 'ISIC_0008256.JPG', 'ISIC_0013592.JPG', 'ISIC_0014657.JPG', 'ISIC_0009943.JPG', 'ISIC_0011298.JPG', 'ISIC_0001152.JPG', 'ISIC_0000321.JPG', 'ISIC_0013980.JPG', 'ISIC_0010602.JPG', 'ISIC_0009297.JPG', 'ISIC_0013090.JPG', 'ISIC_0010847.JPG', 'ISIC_0014163.JPG', 'ISIC_0011143.JPG', 'ISIC_0004168.JPG', 'ISIC_0013233.JPG', 'ISIC_0013192.JPG', 'ISIC_0014554.JPG', 'ISIC_0013364.JPG', 'ISIC_0000277.JPG', 'ISIC_0000167.JPG', 'ISIC_0000346.JPG', 'ISIC_0013789.JPG', 'ISIC_0002107.JPG', 'ISIC_0000051.JPG', 'ISIC_0002246.JPG', 'ISIC_0012460.JPG', 'ISIC_0000128.JPG', 'ISIC_0013160.JPG', 'ISIC_0013333.JPG', 'ISIC_0013114.JPG', 'ISIC_0014543.JPG', 'ISIC_0013986.JPG', 'ISIC_0000069.JPG', 'ISIC_0012879.JPG', 'ISIC_0013579.JPG', 'ISIC_0000113.JPG', 'ISIC_0012788.JPG', 'ISIC_0010255.JPG', 'ISIC_0013390.JPG', 'ISIC_0000087.JPG', 'ISIC_0000487.JPG', 'ISIC_0010435.JPG', 'ISIC_0012907.JPG', 'ISIC_0013427.JPG', 'ISIC_0013618.JPG', 'ISIC_0012377.JPG', 'ISIC_0006940.JPG', 'ISIC_0000140.JPG', 'ISIC_0010465.JPG', 'ISIC_0011117.JPG', 'ISIC_0010562.JPG', 'ISIC_0000371.JPG', 'ISIC_0002453.JPG', 'ISIC_0014735.JPG', 'ISIC_0010040.JPG', 'ISIC_0009969.JPG', 'ISIC_0013044.JPG', 'ISIC_0000142.JPG', 'ISIC_0010002.JPG', 'ISIC_0000062.JPG', 'ISIC_0000445.JPG', 'ISIC_0014289.JPG', 'ISIC_0000208.JPG', 'ISIC_0000068.JPG', 'ISIC_0000013.JPG', 'ISIC_0010256.JPG', 'ISIC_0010100.JPG', 'ISIC_0013634.JPG', 'ISIC_0014174.JPG', 'ISIC_0000396.JPG', 'ISIC_0011330.JPG', 'ISIC_0011305.JPG', 'ISIC_0014504.JPG', 'ISIC_0013936.JPG', 'ISIC_0013243.JPG', 'ISIC_0014353.JPG', 'ISIC_0000285.JPG', 'ISIC_0013584.JPG', 'ISIC_0013606.JPG', 'ISIC_0014263.JPG', 'ISIC_0000233.JPG', 'ISIC_0012478.JPG', 'ISIC_0013601.JPG', 'ISIC_0012183.JPG', 'ISIC_0000421.JPG', 'ISIC_0000882.JPG', 'ISIC_0000351.JPG', 'ISIC_0014845.JPG', 'ISIC_0013523.JPG', 'ISIC_0009872.JPG', 'ISIC_0010596.JPG', 'ISIC_0013395.JPG', 'ISIC_0010452.JPG', 'ISIC_0013747.JPG', 'ISIC_0013258.JPG', 'ISIC_0006114.JPG', 'ISIC_0013092.JPG', 'ISIC_0014432.JPG', 'ISIC_0012523.JPG', 'ISIC_0015112.JPG', 'ISIC_0000475.JPG', 'ISIC_0001103.JPG', 'ISIC_0009954.JPG', 'ISIC_0010441.JPG', 'ISIC_0012237.JPG', 'ISIC_0014819.JPG', 'ISIC_0012939.JPG', 'ISIC_0010336.JPG', 'ISIC_0010567.JPG', 'ISIC_0012137.JPG', 'ISIC_0011099.JPG', 'ISIC_0012217.JPG', 'ISIC_0014469.JPG', 'ISIC_0000156.JPG', 'ISIC_0013342.JPG', 'ISIC_0000343.JPG', 'ISIC_0014754.JPG', 'ISIC_0013740.JPG', 'ISIC_0014702.JPG', 'ISIC_0000522.JPG', 'ISIC_0014311.JPG', 'ISIC_0013346.JPG', 'ISIC_0011315.JPG', 'ISIC_0014357.JPG', 'ISIC_0013140.JPG', 'ISIC_0014248.JPG', 'ISIC_0013843.JPG', 'ISIC_0011215.JPG', 'ISIC_0009880.JPG', 'ISIC_0014571.JPG', 'ISIC_0002616.JPG', 'ISIC_0000134.JPG', 'ISIC_0001126.JPG', 'ISIC_0012851.JPG', 'ISIC_0013758.JPG', 'ISIC_0009939.JPG', 'ISIC_0014607.JPG', 'ISIC_0000536.JPG', 'ISIC_0014577.JPG', 'ISIC_0013201.JPG', 'ISIC_0010448.JPG', 'ISIC_0000385.JPG', 'ISIC_0000327.JPG', 'ISIC_0009925.JPG', 'ISIC_0013314.JPG', 'ISIC_0011119.JPG', 'ISIC_0010360.JPG', 'ISIC_0009955.JPG', 'ISIC_0012713.JPG', 'ISIC_0012987.JPG', 'ISIC_0009932.JPG', 'ISIC_0013027.JPG', 'ISIC_0000363.JPG', 'ISIC_0013163.JPG', 'ISIC_0014898.JPG', 'ISIC_0011114.JPG', 'ISIC_0009188.JPG', 'ISIC_0000269.JPG', 'ISIC_0013341.JPG', 'ISIC_0000232.JPG', 'ISIC_0000259.JPG', 'ISIC_0010088.JPG', 'ISIC_0010348.JPG', 'ISIC_0014582.JPG', 'ISIC_0014578.JPG', 'ISIC_0010257.JPG', 'ISIC_0013996.JPG', 'ISIC_0012970.JPG', 'ISIC_0012415.JPG', 'ISIC_0014783.JPG', 'ISIC_0013690.JPG', 'ISIC_0014638.JPG', 'ISIC_0013578.JPG', 'ISIC_0012338.JPG', 'ISIC_0000397.JPG', 'ISIC_0015113.JPG', 'ISIC_0013797.JPG', 'ISIC_0012833.JPG', 'ISIC_0014613.JPG', 'ISIC_0000048.JPG', 'ISIC_0014073.JPG', 'ISIC_0013244.JPG', 'ISIC_0010006.JPG', 'ISIC_0010024.JPG', 'ISIC_0011146.JPG', 'ISIC_0011155.JPG', 'ISIC_0013672.JPG', 'ISIC_0010853.JPG', 'ISIC_0000350.JPG', 'ISIC_0010086.JPG', 'ISIC_0000513.JPG', 'ISIC_0000007.JPG', 'ISIC_0010206.JPG', 'ISIC_0012739.JPG', 'ISIC_0010351.JPG', 'ISIC_0012949.JPG', 'ISIC_0009914.JPG', 'ISIC_0012749.JPG', 'ISIC_0012672.JPG', 'ISIC_0014079.JPG', 'ISIC_0012211.JPG', 'ISIC_0000229.JPG', 'ISIC_0010586.JPG', 'ISIC_0012246.JPG', 'ISIC_0000054.JPG', 'ISIC_0000146.JPG', 'ISIC_0012969.JPG', 'ISIC_0014818.JPG', 'ISIC_0012878.JPG', 'ISIC_0010021.JPG', 'ISIC_0000480.JPG', 'ISIC_0002469.JPG', 'ISIC_0000176.JPG', 'ISIC_0014395.JPG', 'ISIC_0010365.JPG', 'ISIC_0014438.JPG', 'ISIC_0013879.JPG', 'ISIC_0010474.JPG', 'ISIC_0013033.JPG', 'ISIC_0000297.JPG', 'ISIC_0002885.JPG', 'ISIC_0013782.JPG', 'ISIC_0003174.JPG', 'ISIC_0000344.JPG', 'ISIC_0012386.JPG', 'ISIC_0001140.JPG', 'ISIC_0014983.JPG', 'ISIC_0009911.JPG', 'ISIC_0012657.JPG', 'ISIC_0009877.JPG', 'ISIC_0000124.JPG', 'ISIC_0000555.JPG', 'ISIC_0000395.JPG', 'ISIC_0013141.JPG', 'ISIC_0012501.JPG', 'ISIC_0014372.JPG', 'ISIC_0010467.JPG', 'ISIC_0000329.JPG', 'ISIC_0009941.JPG', 'ISIC_0000550.JPG', 'ISIC_0013315.JPG', 'ISIC_0000505.JPG', 'ISIC_0000243.JPG', 'ISIC_0013861.JPG', 'ISIC_0000155.JPG', 'ISIC_0014045.JPG', 'ISIC_0000341.JPG', 'ISIC_0000369.JPG', 'ISIC_0010483.JPG', 'ISIC_0014839.JPG', 'ISIC_0010070.JPG', 'ISIC_0002251.JPG', 'ISIC_0014094.JPG', 'ISIC_0000556.JPG', 'ISIC_0013340.JPG', 'ISIC_0000456.JPG', 'ISIC_0013670.JPG', 'ISIC_0002976.JPG', 'ISIC_0013294.JPG', 'ISIC_0000545.JPG', 'ISIC_0003346.JPG', 'ISIC_0014579.JPG', 'ISIC_0010182.JPG', 'ISIC_0000127.JPG', 'ISIC_0014569.JPG', 'ISIC_0000052.JPG', 'ISIC_0000001.JPG', 'ISIC_0009883.JPG', 'ISIC_0014049.JPG', 'ISIC_0005787.JPG', 'ISIC_0014665.JPG', 'ISIC_0013086.JPG', 'ISIC_0003051.JPG', 'ISIC_0011294.JPG', 'ISIC_0000412.JPG', 'ISIC_0000074.JPG', 'ISIC_0000186.JPG', 'ISIC_0000182.JPG', 'ISIC_0012299.JPG', 'ISIC_0009533.JPG', 'ISIC_0012245.JPG', 'ISIC_0014707.JPG', 'ISIC_0000008.JPG', 'ISIC_0000246.JPG', 'ISIC_0010570.JPG', 'ISIC_0013675.JPG', 'ISIC_0014535.JPG', 'ISIC_0002829.JPG', 'ISIC_0012962.JPG', 'ISIC_0014742.JPG', 'ISIC_0012382.JPG', 'ISIC_0000037.JPG', 'ISIC_0009078.JPG', 'ISIC_0013181.JPG', 'ISIC_0015153.JPG', 'ISIC_0014291.JPG', 'ISIC_0000364.JPG', 'ISIC_0012813.JPG', 'ISIC_0000147.JPG', 'ISIC_0002093.JPG', 'ISIC_0014731.JPG', 'ISIC_0003308.JPG', 'ISIC_0000041.JPG', 'ISIC_0014904.JPG', 'ISIC_0012744.JPG', 'ISIC_0009963.JPG', 'ISIC_0010493.JPG', 'ISIC_0011089.JPG', 'ISIC_0010379.JPG', 'ISIC_0009901.JPG', 'ISIC_0010374.JPG', 'ISIC_0010442.JPG', 'ISIC_0010571.JPG', 'ISIC_0000112.JPG', 'ISIC_0010060.JPG', 'ISIC_0009875.JPG', 'ISIC_0010326.JPG', 'ISIC_0012988.JPG', 'ISIC_0008528.JPG', 'ISIC_0014636.JPG', 'ISIC_0000224.JPG', 'ISIC_0014651.JPG', 'ISIC_0012898.JPG', 'ISIC_0012238.JPG', 'ISIC_0011166.JPG', 'ISIC_0000386.JPG', 'ISIC_0012711.JPG', 'ISIC_0000511.JPG', 'ISIC_0000533.JPG', 'ISIC_0013499.JPG', 'ISIC_0013626.JPG', 'ISIC_0011127.JPG', 'ISIC_0012381.JPG', 'ISIC_0014001.JPG', 'ISIC_0014187.JPG', 'ISIC_0012806.JPG', 'ISIC_0000218.JPG', 'ISIC_0014136.JPG', 'ISIC_0009906.JPG', 'ISIC_0013707.JPG', 'ISIC_0009885.JPG', 'ISIC_0013599.JPG', 'ISIC_0011207.JPG', 'ISIC_0011363.JPG', 'ISIC_0000434.JPG', 'ISIC_0000172.JPG', 'ISIC_0010237.JPG', 'ISIC_0010581.JPG', 'ISIC_0000490.JPG', 'ISIC_0013706.JPG', 'ISIC_0000064.JPG', 'ISIC_0014832.JPG', 'ISIC_0012662.JPG', 'ISIC_0010220.JPG', 'ISIC_0010356.JPG', 'ISIC_0013304.JPG', 'ISIC_0010575.JPG', 'ISIC_0000410.JPG', 'ISIC_0012320.JPG', 'ISIC_0013995.JPG', 'ISIC_0002489.JPG', 'ISIC_0000209.JPG', 'ISIC_0011317.JPG', 'ISIC_0000066.JPG', 'ISIC_0012827.JPG', 'ISIC_0013026.JPG', 'ISIC_0013553.JPG', 'ISIC_0000425.JPG', 'ISIC_0000258.JPG', 'ISIC_0013581.JPG', 'ISIC_0014609.JPG', 'ISIC_0010193.JPG', 'ISIC_0000469.JPG', 'ISIC_0000483.JPG', 'ISIC_0014076.JPG', 'ISIC_0014926.JPG', 'ISIC_0000365.JPG', 'ISIC_0012976.JPG', 'ISIC_0009958.JPG', 'ISIC_0000298.JPG', 'ISIC_0014385.JPG', 'ISIC_0011159.JPG', 'ISIC_0012116.JPG', 'ISIC_0000473.JPG', 'ISIC_0000523.JPG', 'ISIC_0013796.JPG', 'ISIC_0000081.JPG', 'ISIC_0013969.JPG', 'ISIC_0014722.JPG', 'ISIC_0009967.JPG', 'ISIC_0010490.JPG', 'ISIC_0013801.JPG', 'ISIC_0012172.JPG', 'ISIC_0013625.JPG', 'ISIC_0002488.JPG', 'ISIC_0015181.JPG', 'ISIC_0010219.JPG', 'ISIC_0012311.JPG', 'ISIC_0014431.JPG', 'ISIC_0010587.JPG', 'ISIC_0014486.JPG', 'ISIC_0012888.JPG', 'ISIC_0011101.JPG', 'ISIC_0014951.JPG', 'ISIC_0013167.JPG', 'ISIC_0014654.JPG', 'ISIC_0000162.JPG', 'ISIC_0013088.JPG', 'ISIC_0012416.JPG', 'ISIC_0000278.JPG', 'ISIC_0009929.JPG', 'ISIC_0013097.JPG', 'ISIC_0000320.JPG', 'ISIC_0014150.JPG', 'ISIC_0014598.JPG', 'ISIC_0000164.JPG', 'ISIC_0012658.JPG', 'ISIC_0000539.JPG', 'ISIC_0010087.JPG', 'ISIC_0012725.JPG', 'ISIC_0014157.JPG', 'ISIC_0010852.JPG', 'ISIC_0013400.JPG', 'ISIC_0014716.JPG', 'ISIC_0009430.JPG', 'ISIC_0004346.JPG', 'ISIC_0010003.JPG', 'ISIC_0014811.JPG', 'ISIC_0012274.JPG', 'ISIC_0013311.JPG', 'ISIC_0002206.JPG', 'ISIC_0010481.JPG', 'ISIC_0010444.JPG', 'ISIC_0000039.JPG', 'ISIC_0013224.JPG', 'ISIC_0000444.JPG', 'ISIC_0014661.JPG', 'ISIC_0010494.JPG', 'ISIC_0013039.JPG', 'ISIC_0000019.JPG', 'ISIC_0012701.JPG', 'ISIC_0014592.JPG', 'ISIC_0013193.JPG', 'ISIC_0014164.JPG', 'ISIC_0013189.JPG', 'ISIC_0014602.JPG', 'ISIC_0012164.JPG', 'ISIC_0010329.JPG', 'ISIC_0013410.JPG', 'ISIC_0013084.JPG', 'ISIC_0013204.JPG', 'ISIC_0012494.JPG', 'ISIC_0013841.JPG', 'ISIC_0012177.JPG', 'ISIC_0010055.JPG', 'ISIC_0014366.JPG', 'ISIC_0013559.JPG', 'ISIC_0012669.JPG', 'ISIC_0000427.JPG', 'ISIC_0012661.JPG', 'ISIC_0014596.JPG', 'ISIC_0009956.JPG', 'ISIC_0010046.JPG', 'ISIC_0014274.JPG', 'ISIC_0000544.JPG', 'ISIC_0010488.JPG', 'ISIC_0006326.JPG', 'ISIC_0011170.JPG', 'ISIC_0012887.JPG', 'ISIC_0011327.JPG', 'metadata.csv', 'ISIC_0014365.JPG', 'ISIC_0012329.JPG', 'ISIC_0012800.JPG', 'ISIC_0014286.JPG', 'ISIC_0010020.JPG', 'ISIC_0011224.JPG', 'ISIC_0011220.JPG', 'ISIC_0010058.JPG', 'ISIC_0000103.JPG', 'ISIC_0014299.JPG', 'ISIC_0013198.JPG', 'ISIC_0009905.JPG', 'ISIC_0009873.JPG', 'ISIC_0009964.JPG', 'ISIC_0006776.JPG', 'ISIC_0013725.JPG', 'ISIC_0012213.JPG', 'ISIC_0012155.JPG', 'ISIC_0001119.JPG', 'ISIC_0010185.JPG', 'ISIC_0000515.JPG', 'ISIC_0000000.JPG', 'ISIC_0000011.JPG', 'ISIC_0000213.JPG', 'ISIC_0000023.JPG', 'ISIC_0010013.JPG', 'ISIC_0013806.JPG', 'ISIC_0013205.JPG', 'ISIC_0013597.JPG', 'ISIC_0000316.JPG', 'ISIC_0011208.JPG', 'ISIC_0014069.JPG', 'ISIC_0014630.JPG', 'ISIC_0002476.JPG', 'ISIC_0013187.JPG', 'ISIC_0014723.JPG', 'ISIC_0010202.JPG', 'ISIC_0010092.JPG', 'ISIC_0009945.JPG', 'ISIC_0012517.JPG', 'ISIC_0010225.JPG', 'ISIC_0012768.JPG', 'ISIC_0000491.JPG', 'ISIC_0000324.JPG', 'ISIC_0013997.JPG', 'ISIC_0000360.JPG', 'ISIC_0010034.JPG', 'ISIC_0013124.JPG', 'ISIC_0012208.JPG', 'ISIC_0012496.JPG', 'ISIC_0009874.JPG', 'ISIC_0000283.JPG', 'ISIC_0012278.JPG', 'ISIC_0013405.JPG', 'ISIC_0000145.JPG', 'ISIC_0013397.JPG', 'ISIC_0014788.JPG', 'ISIC_0010047.JPG', 'ISIC_0014903.JPG', 'ISIC_0000332.JPG', 'ISIC_0012469.JPG', 'ISIC_0013962.JPG', 'ISIC_0015108.JPG', 'ISIC_0011161.JPG', 'ISIC_0012374.JPG', 'ISIC_0013219.JPG', 'ISIC_0011203.JPG', 'ISIC_0011306.JPG', 'ISIC_0000468.JPG', 'ISIC_0014836.JPG', 'ISIC_0000251.JPG', 'ISIC_0010215.JPG', 'ISIC_0013438.JPG', 'ISIC_0012884.JPG', 'ISIC_0013984.JPG', 'ISIC_0000141.JPG', 'ISIC_0000121.JPG', 'ISIC_0012659.JPG', 'ISIC_0000415.JPG', 'ISIC_0014028.JPG', 'ISIC_0000551.JPG', 'ISIC_0013927.JPG', 'ISIC_0012173.JPG', 'ISIC_0000177.JPG', 'ISIC_0014066.JPG', 'ISIC_0013836.JPG', 'ISIC_0014682.JPG', 'ISIC_0014628.JPG', 'ISIC_0010241.JPG', 'ISIC_0015200.JPG', 'ISIC_0010334.JPG', 'ISIC_0000198.JPG', 'ISIC_0011344.JPG', 'ISIC_0000426.JPG', 'ISIC_0011217.JPG', 'ISIC_0014680.JPG', 'ISIC_0010856.JPG', 'ISIC_0010477.JPG', 'ISIC_0010029.JPG', 'ISIC_0000136.JPG', 'ISIC_0012773.JPG', 'ISIC_0013596.JPG', 'ISIC_0010176.JPG', 'ISIC_0002439.JPG', 'ISIC_0000292.JPG', 'ISIC_0013056.JPG', 'ISIC_0011123.JPG', 'ISIC_0014708.JPG', 'ISIC_0009888.JPG', 'ISIC_0014685.JPG', 'ISIC_0011088.JPG', 'ISIC_0013302.JPG', 'ISIC_0000057.JPG', 'ISIC_0010075.JPG', 'ISIC_0013032.JPG', 'ISIC_0010184.JPG', 'ISIC_0000199.JPG', 'ISIC_0000137.JPG', 'ISIC_0013310.JPG', 'ISIC_0008998.JPG', 'ISIC_0000379.JPG', 'ISIC_0014394.JPG', 'ISIC_0000314.JPG', 'ISIC_0014361.JPG', 'ISIC_0000020.JPG', 'ISIC_0012102.JPG', 'ISIC_0013177.JPG', 'ISIC_0014595.JPG', 'ISIC_0001133.JPG', 'ISIC_0010186.JPG', 'ISIC_0014074.JPG', 'ISIC_0010267.JPG', 'ISIC_0000322.JPG', 'ISIC_0013001.JPG', 'ISIC_0013089.JPG', 'ISIC_0000149.JPG', 'ISIC_0012793.JPG', 'ISIC_0014308.JPG', 'ISIC_0014032.JPG', 'ISIC_0010473.JPG', 'ISIC_0000447.JPG', 'ISIC_0011083.JPG', 'ISIC_0013287.JPG', 'ISIC_0000063.JPG', 'ISIC_0013165.JPG', 'ISIC_0012674.JPG', 'ISIC_0000261.JPG', 'ISIC_0011303.JPG', 'ISIC_0006612.JPG', 'ISIC_0000032.JPG', 'ISIC_0013671.JPG', 'ISIC_0015044.JPG', 'ISIC_0010205.JPG', 'ISIC_0012883.JPG', 'ISIC_0013689.JPG', 'ISIC_0000484.JPG', 'ISIC_0013014.JPG', 'ISIC_0010357.JPG', 'ISIC_0014537.JPG', 'ISIC_0014812.JPG', 'ISIC_0012450.JPG', 'ISIC_0013031.JPG', 'ISIC_0014913.JPG', 'ISIC_0012359.JPG', 'ISIC_0012702.JPG', 'ISIC_0014089.JPG', 'ISIC_0010848.JPG', 'ISIC_0013493.JPG', 'ISIC_0013238.JPG', 'ISIC_0012481.JPG', 'ISIC_0000387.JPG', 'ISIC_0000202.JPG', 'ISIC_0001134.JPG', 'ISIC_0013052.JPG', 'ISIC_0012873.JPG', 'ISIC_0000466.JPG', 'ISIC_0009972.JPG', 'ISIC_0013220.JPG', 'ISIC_0000431.JPG', 'ISIC_0000504.JPG', 'ISIC_0012508.JPG', 'ISIC_0010229.JPG', 'ISIC_0014029.JPG', 'ISIC_0008541.JPG', 'ISIC_0012224.JPG', 'ISIC_0014599.JPG', 'ISIC_0013423.JPG', 'ISIC_0000260.JPG', 'ISIC_0000160.JPG', 'ISIC_0013249.JPG', 'ISIC_0008347.JPG', 'ISIC_0014253.JPG', 'ISIC_0011304.JPG', 'ISIC_0012785.JPG', 'ISIC_0009966.JPG', 'ISIC_0002780.JPG', 'ISIC_0000192.JPG', 'ISIC_0011121.JPG', 'ISIC_0000016.JPG', 'ISIC_0011384.JPG', 'ISIC_0011169.JPG', 'ISIC_0013573.JPG', 'ISIC_0014171.JPG', 'ISIC_0003005.JPG', 'ISIC_0000006.JPG', 'ISIC_0011321.JPG', 'ISIC_0012334.JPG', 'ISIC_0002871.JPG', 'ISIC_0013888.JPG', 'ISIC_0000196.JPG', 'ISIC_0013229.JPG', 'ISIC_0000132.JPG', 'ISIC_0012342.JPG', 'ISIC_0000250.JPG', 'ISIC_0000380.JPG', 'ISIC_0014782.JPG', 'ISIC_0009931.JPG', 'ISIC_0000101.JPG', 'ISIC_0000347.JPG', 'ISIC_0009583.JPG', 'ISIC_0000486.JPG', 'ISIC_0000107.JPG', 'ISIC_0000340.JPG', 'ISIC_0013643.JPG', 'ISIC_0013429.JPG', 'ISIC_0010201.JPG', 'ISIC_0009884.JPG', 'ISIC_0010466.JPG', 'ISIC_0010370.JPG', 'ISIC_0000448.JPG', 'ISIC_0014190.JPG', 'ISIC_0000482.JPG', 'ISIC_0015260.JPG', 'ISIC_0000071.JPG', 'ISIC_0009895.JPG', 'ISIC_0013799.JPG', 'ISIC_0012360.JPG', 'ISIC_0000150.JPG', 'ISIC_0011079.JPG', 'ISIC_0000034.JPG', 'ISIC_0013274.JPG', 'ISIC_0000530.JPG', 'ISIC_0011165.JPG', 'ISIC_0013430.JPG', 'ISIC_0010017.JPG', 'ISIC_0014093.JPG', 'ISIC_0009870.JPG', 'ISIC_0014821.JPG', 'ISIC_0013212.JPG', 'ISIC_0014072.JPG', 'ISIC_0014641.JPG', 'ISIC_0013674.JPG', 'ISIC_0010059.JPG', 'ISIC_0012699.JPG', 'ISIC_0014585.JPG', 'ISIC_0013306.JPG', 'ISIC_0007322.JPG', 'ISIC_0000079.JPG', 'ISIC_0000265.JPG', 'ISIC_0000031.JPG', 'ISIC_0011372.JPG', 'ISIC_0013680.JPG', 'ISIC_0012520.JPG', 'ISIC_0012671.JPG', 'ISIC_0012489.JPG', 'ISIC_0011118.JPG', 'ISIC_0014915.JPG', 'ISIC_0000157.JPG', 'ISIC_0011110.JPG', 'ISIC_0014605.JPG', 'ISIC_0013480.JPG', 'ISIC_0012911.JPG', 'ISIC_0014621.JPG', 'ISIC_0009083.JPG', 'ISIC_0010498.JPG', 'ISIC_0013486.JPG', 'ISIC_0011292.JPG', 'ISIC_0008116.JPG', 'ISIC_0000492.JPG', 'ISIC_0004110.JPG', 'ISIC_0012756.JPG', 'ISIC_0015110.JPG', 'ISIC_0001118.JPG', 'ISIC_0009909.JPG', 'ISIC_0014606.JPG', 'ISIC_0014331.JPG', 'ISIC_0013129.JPG', 'ISIC_0000325.JPG', 'ISIC_0000118.JPG', 'ISIC_0006350.JPG', 'ISIC_0012854.JPG', 'ISIC_0014692.JPG', 'ISIC_0000274.JPG', 'ISIC_0011145.JPG', 'ISIC_0012107.JPG', 'ISIC_0000130.JPG', 'ISIC_0000443.JPG', 'ISIC_0000527.JPG', 'ISIC_0002806.JPG', 'ISIC_0011212.JPG', 'ISIC_0011158.JPG', 'ISIC_0010476.JPG', 'ISIC_0009918.JPG', 'ISIC_0014711.JPG', 'ISIC_0010173.JPG', 'ISIC_0010382.JPG', 'ISIC_0000201.JPG', 'ISIC_0000105.JPG', 'ISIC_0014573.JPG', 'ISIC_0009949.JPG', 'ISIC_0013688.JPG', 'ISIC_0000506.JPG', 'ISIC_0013378.JPG', 'ISIC_0011359.JPG', 'ISIC_0000197.JPG', 'ISIC_0013982.JPG', 'ISIC_0000301.JPG', 'ISIC_0011328.JPG', 'ISIC_0012235.JPG', 'ISIC_0000548.JPG', 'ISIC_0001131.JPG', 'ISIC_0010019.JPG', 'ISIC_0013417.JPG', 'ISIC_0009912.JPG', 'ISIC_0013385.JPG', 'ISIC_0013196.JPG', 'ISIC_0012737.JPG', 'ISIC_0012150.JPG', 'ISIC_0012690.JPG', 'ISIC_0008145.JPG', 'ISIC_0000354.JPG', 'ISIC_0009564.JPG', 'ISIC_0015204.JPG', 'ISIC_0012844.JPG', 'ISIC_0013236.JPG', 'ISIC_0013120.JPG', 'ISIC_0000500.JPG', 'ISIC_0010227.JPG', 'ISIC_0014149.JPG', 'ISIC_0009977.JPG', 'ISIC_0000014.JPG', 'ISIC_0007693.JPG', 'ISIC_0012683.JPG', 'ISIC_0011402.JPG', 'ISIC_0015166.JPG', 'ISIC_0008029.JPG', 'ISIC_0012741.JPG', 'ISIC_0012376.JPG', 'ISIC_0015079.JPG', 'ISIC_0013461.JPG', 'ISIC_0013713.JPG', 'ISIC_0009599.JPG', 'ISIC_0014088.JPG', 'ISIC_0014830.JPG', 'ISIC_0001102.JPG', 'ISIC_0000319.JPG', 'ISIC_0014264.JPG', 'ISIC_0009994.JPG', 'ISIC_0013474.JPG', 'ISIC_0014183.JPG', 'ISIC_0012944.JPG', 'ISIC_0013800.JPG', 'ISIC_0014908.JPG', 'ISIC_0005666.JPG', 'ISIC_0000231.JPG', 'ISIC_0013721.JPG', 'ISIC_0010574.JPG', 'ISIC_0000439.JPG', 'ISIC_0000152.JPG', 'ISIC_0000125.JPG', 'ISIC_0013862.JPG', 'ISIC_0014987.JPG', 'ISIC_0011132.JPG', 'ISIC_0013288.JPG', 'ISIC_0014891.JPG', 'ISIC_0010864.JPG', 'ISIC_0000095.JPG', 'ISIC_0015295.JPG', 'ISIC_0014144.JPG', 'ISIC_0000392.JPG', 'ISIC_0000049.JPG', 'ISIC_0012897.JPG', 'ISIC_0007760.JPG', 'ISIC_0014004.JPG', 'ISIC_0013207.JPG', 'ISIC_0013063.JPG', 'ISIC_0013667.JPG', 'ISIC_0011225.JPG', 'ISIC_0010487.JPG', 'ISIC_0000524.JPG', 'ISIC_0000326.JPG', 'ISIC_0013961.JPG', 'ISIC_0014580.JPG', 'ISIC_0010372.JPG', 'ISIC_0013434.JPG', 'ISIC_0009960.JPG', 'ISIC_0000256.JPG', 'ISIC_0002438.JPG', 'ISIC_0013112.JPG', 'ISIC_0012390.JPG', 'ISIC_0014044.JPG', 'ISIC_0014480.JPG', 'ISIC_0009896.JPG', 'ISIC_0000376.JPG', 'ISIC_0014594.JPG', 'ISIC_0000372.JPG', 'ISIC_0010265.JPG', 'ISIC_0010554.JPG', 'ISIC_0000088.JPG', 'ISIC_0012742.JPG', 'ISIC_0013217.JPG', 'ISIC_0013222.JPG', 'ISIC_0010246.JPG', 'ISIC_0013121.JPG', 'ISIC_0010043.JPG', 'ISIC_0014189.JPG', 'ISIC_0012209.JPG', 'ISIC_0014612.JPG', 'ISIC_0012693.JPG', 'ISIC_0008396.JPG', 'ISIC_0004166.JPG', 'ISIC_0014762.JPG', 'ISIC_0010342.JPG', 'ISIC_0011349.JPG', 'ISIC_0011333.JPG', 'ISIC_0000234.JPG', 'ISIC_0013055.JPG', 'ISIC_0014794.JPG', 'ISIC_0000528.JPG', 'ISIC_0011300.JPG', 'ISIC_0013334.JPG', 'ISIC_0014026.JPG', 'ISIC_0014346.JPG', 'ISIC_0000315.JPG', 'ISIC_0013126.JPG', 'ISIC_0010447.JPG', 'ISIC_0014803.JPG', 'ISIC_0014476.JPG', 'ISIC_0000518.JPG', 'ISIC_0012845.JPG', 'ISIC_0000433.JPG', 'ISIC_0014603.JPG', 'ISIC_0000501.JPG', 'ISIC_0000046.JPG', 'ISIC_0014724.JPG', 'ISIC_0000407.JPG', 'ISIC_0000053.JPG', 'ISIC_0010216.JPG', 'ISIC_0013197.JPG', 'ISIC_0014770.JPG', 'ISIC_0007087.JPG', 'ISIC_0010350.JPG', 'ISIC_0000352.JPG', 'ISIC_0010330.JPG', 'ISIC_0000188.JPG', 'ISIC_0012379.JPG', 'ISIC_0000026.JPG', 'ISIC_0010552.JPG', 'ISIC_0010857.JPG', 'ISIC_0000148.JPG', 'ISIC_0000024.JPG', 'ISIC_0010174.JPG', 'ISIC_0000460.JPG', 'ISIC_0013807.JPG', 'ISIC_0012950.JPG', 'ISIC_0012787.JPG', 'ISIC_0013748.JPG', 'ISIC_0012089.JPG', 'ISIC_0000190.JPG', 'ISIC_0000012.JPG', 'ISIC_0013316.JPG', 'ISIC_0014632.JPG', 'ISIC_0015082.JPG', 'ISIC_0014290.JPG', 'ISIC_0010344.JPG', 'ISIC_0010022.JPG', 'ISIC_0010851.JPG', 'ISIC_0000281.JPG', 'ISIC_0014458.JPG', 'ISIC_0000481.JPG', 'ISIC_0009976.JPG', 'ISIC_0000540.JPG', 'ISIC_0008294.JPG', 'ISIC_0014785.JPG', 'ISIC_0011164.JPG', 'ISIC_0000549.JPG', 'ISIC_0013025.JPG', 'ISIC_0014507.JPG', 'ISIC_0014890.JPG', 'ISIC_0009965.JPG', 'ISIC_0014849.JPG', 'ISIC_0013554.JPG', 'ISIC_0009923.JPG', 'ISIC_0014347.JPG', 'ISIC_0000479.JPG', 'ISIC_0005639.JPG', 'ISIC_0010104.JPG', 'ISIC_0012453.JPG', 'ISIC_0010194.JPG', 'ISIC_0010248.JPG', 'ISIC_0012715.JPG', 'ISIC_0000205.JPG', 'ISIC_0000416.JPG', 'ISIC_0000336.JPG', 'ISIC_0010251.JPG', 'ISIC_0010067.JPG', 'ISIC_0013635.JPG', 'ISIC_0013684.JPG', 'ISIC_0010028.JPG', 'ISIC_0012170.JPG', 'ISIC_0012233.JPG', 'ISIC_0013530.JPG', 'ISIC_0010585.JPG', 'ISIC_0000056.JPG', 'ISIC_0014249.JPG', 'ISIC_0011205.JPG', 'ISIC_0011168.JPG', 'ISIC_0000382.JPG', 'ISIC_0000085.JPG', 'ISIC_0015006.JPG', 'ISIC_0012175.JPG', 'ISIC_0013837.JPG', 'ISIC_0009910.JPG', 'ISIC_0013525.JPG', 'ISIC_0014325.JPG', 'ISIC_0000455.JPG', 'ISIC_0013208.JPG', 'ISIC_0000161.JPG', 'ISIC_0014327.JPG', 'ISIC_0012685.JPG', 'ISIC_0000390.JPG', 'ISIC_0014739.JPG', 'ISIC_0013835.JPG', 'ISIC_0011382.JPG', 'ISIC_0013037.JPG', 'ISIC_0013765.JPG', 'ISIC_0002673.JPG', 'ISIC_0000461.JPG', 'ISIC_0000099.JPG', 'licenses', 'ISIC_0010262.JPG', 'ISIC_0012770.JPG', 'ISIC_0014831.JPG', 'ISIC_0012322.JPG', 'ISIC_0010860.JPG', 'ISIC_0000179.JPG', 'ISIC_0009937.JPG', 'ISIC_0013975.JPG', 'ISIC_0012103.JPG', 'ISIC_0013495.JPG', 'ISIC_0000458.JPG', 'ISIC_0013567.JPG', 'ISIC_0013676.JPG', 'ISIC_0012543.JPG', 'ISIC_0014823.JPG', 'ISIC_0008807.JPG', 'ISIC_0009758.JPG', 'ISIC_0010553.JPG', 'ISIC_0008403.JPG', 'ISIC_0000207.JPG', 'ISIC_0013695.JPG', 'ISIC_0014341.JPG', 'ISIC_0014185.JPG', 'ISIC_0011167.JPG', 'ISIC_0000453.JPG', 'ISIC_0012384.JPG', 'ISIC_0000025.JPG', 'ISIC_0001100.JPG', 'ISIC_0000226.JPG', 'ISIC_0014769.JPG', 'ISIC_0009942.JPG', 'ISIC_0009899.JPG', 'ISIC_0000215.JPG', 'ISIC_0000065.JPG', 'ISIC_0013487.JPG', 'ISIC_0011136.JPG', 'ISIC_0014031.JPG', 'ISIC_0014195.JPG', 'ISIC_0000094.JPG', 'ISIC_0012957.JPG', 'ISIC_0013967.JPG', 'ISIC_0014440.JPG', 'ISIC_0011324.JPG', 'ISIC_0011124.JPG', 'ISIC_0012719.JPG', 'ISIC_0012324.JPG', 'ISIC_0014120.JPG', 'ISIC_0010192.JPG', 'ISIC_0000552.JPG', 'ISIC_0009947.JPG', 'ISIC_0000470.JPG', 'ISIC_0012506.JPG', 'ISIC_0000116.JPG', 'ISIC_0010222.JPG', 'ISIC_0000204.JPG', 'ISIC_0012435.JPG', 'ISIC_0000174.JPG', 'ISIC_0009940.JPG', 'ISIC_0006982.JPG', 'ISIC_0011140.JPG', 'ISIC_0011345.JPG', 'ISIC_0013365.JPG', 'ISIC_0000300.JPG', 'ISIC_0013007.JPG', 'ISIC_0000185.JPG', 'ISIC_0010074.JPG', 'ISIC_0009917.JPG', 'ISIC_0001128.JPG', 'ISIC_0008992.JPG', 'ISIC_0013150.JPG', 'ISIC_0013497.JPG', 'ISIC_0012692.JPG', 'ISIC_0010170.JPG', 'ISIC_0014114.JPG', 'ISIC_0000240.JPG', 'ISIC_0012901.JPG', 'ISIC_0010236.JPG', 'ISIC_0000366.JPG', 'ISIC_0000050.JPG', 'ISIC_0010177.JPG', 'ISIC_0000072.JPG', 'ISIC_0010090.JPG', 'ISIC_0014545.JPG', 'ISIC_0009920.JPG', 'ISIC_0012676.JPG', 'ISIC_0013965.JPG', 'ISIC_0012709.JPG', 'ISIC_0000303.JPG', 'ISIC_0000510.JPG', 'ISIC_0011223.JPG', 'ISIC_0000507.JPG', 'ISIC_0000521.JPG', 'ISIC_0012261.JPG', 'ISIC_0010053.JPG', 'ISIC_0013516.JPG', 'ISIC_0010461.JPG', 'ISIC_0015284.JPG', 'ISIC_0009968.JPG', 'ISIC_0014760.JPG', 'ISIC_0012475.JPG', 'ISIC_0000307.JPG', 'ISIC_0000153.JPG', 'ISIC_0010854.JPG', 'ISIC_0013792.JPG', 'ISIC_0010005.JPG', 'ISIC_0000165.JPG', 'ISIC_0011386.JPG', 'ISIC_0014453.JPG', 'ISIC_0010018.JPG', 'ISIC_0000022.JPG', 'ISIC_0014473.JPG', 'ISIC_0011171.JPG', 'ISIC_0014360.JPG', 'ISIC_0012303.JPG', 'ISIC_0009252.JPG', 'ISIC_0014975.JPG', 'ISIC_0009981.JPG', 'ISIC_0006795.JPG', 'ISIC_0013664.JPG', 'ISIC_0013691.JPG', 'ISIC_0010846.JPG', 'ISIC_0013817.JPG', 'ISIC_0000009.JPG', 'ISIC_0010105.JPG', 'ISIC_0000214.JPG', 'ISIC_0009975.JPG', 'ISIC_0012294.JPG', 'ISIC_0000393.JPG', 'ISIC_0010240.JPG', 'ISIC_0013682.JPG', 'ISIC_0012666.JPG', 'ISIC_0014589.JPG', 'ISIC_0013795.JPG', 'ISIC_0006711.JPG', 'ISIC_0010603.JPG', 'ISIC_0002948.JPG', 'ISIC_0000290.JPG', 'ISIC_0008207.JPG', 'ISIC_0011098.JPG', 'ISIC_0014324.JPG', 'ISIC_0012681.JPG', 'ISIC_0000015.JPG', 'ISIC_0012880.JPG', 'ISIC_0013585.JPG', 'ISIC_0013458.JPG', 'ISIC_0012855.JPG', 'ISIC_0010480.JPG', 'ISIC_0013775.JPG', 'ISIC_0012986.JPG', 'ISIC_0010327.JPG', 'ISIC_0012263.JPG', 'ISIC_0013816.JPG', 'ISIC_0000073.JPG', 'ISIC_0014664.JPG', 'ISIC_0012789.JPG', 'ISIC_0014498.JPG', 'ISIC_0013053.JPG', 'ISIC_0010582.JPG', 'ISIC_0014838.JPG', 'ISIC_0010599.JPG', 'ISIC_0013409.JPG', 'ISIC_0011230.JPG', 'ISIC_0000420.JPG', 'ISIC_0000295.JPG', 'ISIC_0000222.JPG', 'ISIC_0012228.JPG', 'ISIC_0000391.JPG', 'ISIC_0011097.JPG', 'ISIC_0010455.JPG', 'ISIC_0000089.JPG', 'ISIC_0013772.JPG', 'ISIC_0011322.JPG', 'ISIC_0000045.JPG', 'ISIC_0010333.JPG', 'ISIC_0012680.JPG', 'ISIC_0014622.JPG', 'ISIC_0014791.JPG', 'ISIC_0000451.JPG', 'ISIC_0013929.JPG', 'ISIC_0012097.JPG', 'ISIC_0012700.JPG', 'ISIC_0012268.JPG', 'ISIC_0010057.JPG', 'ISIC_0010497.JPG', 'ISIC_0000299.JPG', 'ISIC_0010000.JPG', 'ISIC_0000388.JPG', 'ISIC_0013268.JPG', 'ISIC_0012339.JPG', 'ISIC_0000331.JPG', 'ISIC_0013494.JPG', 'ISIC_0013568.JPG', 'ISIC_0012665.JPG', 'ISIC_0000206.JPG', 'ISIC_0012932.JPG', 'ISIC_0013656.JPG', 'ISIC_0014694.JPG', 'ISIC_0008993.JPG', 'ISIC_0011310.JPG', 'ISIC_0012529.JPG', 'ISIC_0011358.JPG', 'ISIC_0013054.JPG', 'ISIC_0000100.JPG', 'ISIC_0010015.JPG', 'ISIC_0009298.JPG', 'ISIC_0015190.JPG', 'ISIC_0014131.JPG', 'ISIC_0011347.JPG', 'ISIC_0000493.JPG', 'ISIC_0011353.JPG', 'ISIC_0012284.JPG', 'ISIC_0000499.JPG', 'ISIC_0014511.JPG', 'ISIC_0012442.JPG', 'ISIC_0014851.JPG', 'ISIC_0013248.JPG', 'ISIC_0012521.JPG', 'ISIC_0011131.JPG', 'ISIC_0011343.JPG', 'ISIC_0008236.JPG', 'ISIC_0009160.JPG', 'ISIC_0013359.JPG', 'ISIC_0008785.JPG', 'ISIC_0013015.JPG', 'ISIC_0000345.JPG', 'ISIC_0012678.JPG', 'ISIC_0012282.JPG', 'ISIC_0009869.JPG', 'ISIC_0014639.JPG', 'ISIC_0010207.JPG', 'ISIC_0013808.JPG', 'ISIC_0012332.JPG', 'ISIC_0000126.JPG', 'ISIC_0000108.JPG', 'ISIC_0013778.JPG', 'ISIC_0014080.JPG', 'ISIC_0000138.JPG', 'ISIC_0013079.JPG', 'ISIC_0000131.JPG', 'ISIC_0011176.JPG', 'ISIC_0014132.JPG', 'ISIC_0000381.JPG', 'ISIC_0013369.JPG', 'ISIC_0000123.JPG', 'ISIC_0015189.JPG', 'ISIC_0012721.JPG', 'ISIC_0014625.JPG', 'ISIC_0014642.JPG', 'ISIC_0012094.JPG', 'ISIC_0011162.JPG', 'ISIC_0011130.JPG', 'ISIC_0012378.JPG', 'ISIC_0012503.JPG', 'ISIC_0010449.JPG', 'ISIC_0000349.JPG', 'ISIC_0015045.JPG', 'ISIC_0005187.JPG', 'ISIC_0013498.JPG', 'ISIC_0010318.JPG', 'ISIC_0010468.JPG', 'ISIC_0001142.JPG', 'ISIC_0013432.JPG', 'ISIC_0010061.JPG', 'ISIC_0000378.JPG', 'ISIC_0014081.JPG', 'ISIC_0010187.JPG', 'ISIC_0013489.JPG', 'ISIC_0012516.JPG', 'ISIC_0015219.JPG', 'ISIC_0000092.JPG', 'ISIC_0010458.JPG', 'ISIC_0013146.JPG', 'ISIC_0000189.JPG', 'ISIC_0013798.JPG', 'ISIC_0013424.JPG', 'ISIC_0012257.JPG', 'ISIC_0000235.JPG', 'ISIC_0013958.JPG', 'ISIC_0009879.JPG', 'ISIC_0012550.JPG', 'ISIC_0012871.JPG', 'ISIC_0000236.JPG', 'ISIC_0013190.JPG', 'ISIC_0014713.JPG', 'ISIC_0014919.JPG', 'ISIC_0000534.JPG', 'ISIC_0000004.JPG', 'ISIC_0014522.JPG', 'ISIC_0011348.JPG', 'ISIC_0011214.JPG', 'ISIC_0010588.JPG', 'ISIC_0000465.JPG', 'ISIC_0000355.JPG', 'ISIC_0012826.JPG', 'ISIC_0014316.JPG', 'ISIC_0012167.JPG', 'ISIC_0010178.JPG', 'ISIC_0013040.JPG', 'ISIC_0010264.JPG', 'ISIC_0013804.JPG', 'ISIC_0000442.JPG', 'ISIC_0010080.JPG', 'ISIC_0011082.JPG', 'ISIC_0009933.JPG', 'ISIC_0011137.JPG', 'ISIC_0012990.JPG', 'ISIC_0008406.JPG', 'ISIC_0014518.JPG', 'ISIC_0011090.JPG', 'ISIC_0000546.JPG', 'ISIC_0014046.JPG', 'ISIC_0000193.JPG', 'ISIC_0013184.JPG', 'ISIC_0014640.JPG', 'ISIC_0012187.JPG', 'ISIC_0000409.JPG', 'ISIC_0014617.JPG', 'ISIC_0012804.JPG', 'ISIC_0012670.JPG', 'ISIC_0000408.JPG', 'ISIC_0014806.JPG', 'ISIC_0000166.JPG', 'ISIC_0012445.JPG', 'ISIC_0010472.JPG', 'ISIC_0000342.JPG', 'ISIC_0000348.JPG', 'ISIC_0000035.JPG', 'ISIC_0010094.JPG', 'ISIC_0014328.JPG', 'ISIC_0014843.JPG', 'ISIC_0014083.JPG', 'ISIC_0013178.JPG', 'ISIC_0012391.JPG']\n",
            "\n"
          ]
        }
      ]
    },
    {
      "cell_type": "markdown",
      "source": [
        "# New Section"
      ],
      "metadata": {
        "id": "AUO8womkrCJ5"
      }
    },
    {
      "cell_type": "markdown",
      "source": [
        "2. Dataset Preparation\n",
        "\n",
        "Image Preprocessing: Preprocess the images to a consistent size and format. normalize the image data (scaling pixel values to a range of 0 to 1).\n",
        "Data Augmentation: To increase the size of dataset and improve the model's robustness, applying data augmentation techniques such as rotation, zoom, flip, and shift.\n",
        "Labeling: Ensure each image is labeled with the correct type of skin growth. This might involve categorizing images by condition (e.g., benign, malignant, melanoma, etc.)."
      ],
      "metadata": {
        "id": "FCmNbmtBQOBD"
      }
    },
    {
      "cell_type": "code",
      "source": [
        "!pip install tensorflow\n"
      ],
      "metadata": {
        "colab": {
          "base_uri": "https://localhost:8080/"
        },
        "id": "q9dKgTXpPs_K",
        "outputId": "33fb87e9-e38d-4d87-9c4c-251b62bd030e"
      },
      "execution_count": 13,
      "outputs": [
        {
          "output_type": "stream",
          "name": "stdout",
          "text": [
            "Requirement already satisfied: tensorflow in /usr/local/lib/python3.10/dist-packages (2.15.0)\n",
            "Requirement already satisfied: absl-py>=1.0.0 in /usr/local/lib/python3.10/dist-packages (from tensorflow) (1.4.0)\n",
            "Requirement already satisfied: astunparse>=1.6.0 in /usr/local/lib/python3.10/dist-packages (from tensorflow) (1.6.3)\n",
            "Requirement already satisfied: flatbuffers>=23.5.26 in /usr/local/lib/python3.10/dist-packages (from tensorflow) (24.3.25)\n",
            "Requirement already satisfied: gast!=0.5.0,!=0.5.1,!=0.5.2,>=0.2.1 in /usr/local/lib/python3.10/dist-packages (from tensorflow) (0.5.4)\n",
            "Requirement already satisfied: google-pasta>=0.1.1 in /usr/local/lib/python3.10/dist-packages (from tensorflow) (0.2.0)\n",
            "Requirement already satisfied: h5py>=2.9.0 in /usr/local/lib/python3.10/dist-packages (from tensorflow) (3.9.0)\n",
            "Requirement already satisfied: libclang>=13.0.0 in /usr/local/lib/python3.10/dist-packages (from tensorflow) (18.1.1)\n",
            "Requirement already satisfied: ml-dtypes~=0.2.0 in /usr/local/lib/python3.10/dist-packages (from tensorflow) (0.2.0)\n",
            "Requirement already satisfied: numpy<2.0.0,>=1.23.5 in /usr/local/lib/python3.10/dist-packages (from tensorflow) (1.25.2)\n",
            "Requirement already satisfied: opt-einsum>=2.3.2 in /usr/local/lib/python3.10/dist-packages (from tensorflow) (3.3.0)\n",
            "Requirement already satisfied: packaging in /usr/local/lib/python3.10/dist-packages (from tensorflow) (24.0)\n",
            "Requirement already satisfied: protobuf!=4.21.0,!=4.21.1,!=4.21.2,!=4.21.3,!=4.21.4,!=4.21.5,<5.0.0dev,>=3.20.3 in /usr/local/lib/python3.10/dist-packages (from tensorflow) (3.20.3)\n",
            "Requirement already satisfied: setuptools in /usr/local/lib/python3.10/dist-packages (from tensorflow) (67.7.2)\n",
            "Requirement already satisfied: six>=1.12.0 in /usr/local/lib/python3.10/dist-packages (from tensorflow) (1.16.0)\n",
            "Requirement already satisfied: termcolor>=1.1.0 in /usr/local/lib/python3.10/dist-packages (from tensorflow) (2.4.0)\n",
            "Requirement already satisfied: typing-extensions>=3.6.6 in /usr/local/lib/python3.10/dist-packages (from tensorflow) (4.10.0)\n",
            "Requirement already satisfied: wrapt<1.15,>=1.11.0 in /usr/local/lib/python3.10/dist-packages (from tensorflow) (1.14.1)\n",
            "Requirement already satisfied: tensorflow-io-gcs-filesystem>=0.23.1 in /usr/local/lib/python3.10/dist-packages (from tensorflow) (0.36.0)\n",
            "Requirement already satisfied: grpcio<2.0,>=1.24.3 in /usr/local/lib/python3.10/dist-packages (from tensorflow) (1.62.1)\n",
            "Requirement already satisfied: tensorboard<2.16,>=2.15 in /usr/local/lib/python3.10/dist-packages (from tensorflow) (2.15.2)\n",
            "Requirement already satisfied: tensorflow-estimator<2.16,>=2.15.0 in /usr/local/lib/python3.10/dist-packages (from tensorflow) (2.15.0)\n",
            "Requirement already satisfied: keras<2.16,>=2.15.0 in /usr/local/lib/python3.10/dist-packages (from tensorflow) (2.15.0)\n",
            "Requirement already satisfied: wheel<1.0,>=0.23.0 in /usr/local/lib/python3.10/dist-packages (from astunparse>=1.6.0->tensorflow) (0.43.0)\n",
            "Requirement already satisfied: google-auth<3,>=1.6.3 in /usr/local/lib/python3.10/dist-packages (from tensorboard<2.16,>=2.15->tensorflow) (2.27.0)\n",
            "Requirement already satisfied: google-auth-oauthlib<2,>=0.5 in /usr/local/lib/python3.10/dist-packages (from tensorboard<2.16,>=2.15->tensorflow) (1.2.0)\n",
            "Requirement already satisfied: markdown>=2.6.8 in /usr/local/lib/python3.10/dist-packages (from tensorboard<2.16,>=2.15->tensorflow) (3.6)\n",
            "Requirement already satisfied: requests<3,>=2.21.0 in /usr/local/lib/python3.10/dist-packages (from tensorboard<2.16,>=2.15->tensorflow) (2.31.0)\n",
            "Requirement already satisfied: tensorboard-data-server<0.8.0,>=0.7.0 in /usr/local/lib/python3.10/dist-packages (from tensorboard<2.16,>=2.15->tensorflow) (0.7.2)\n",
            "Requirement already satisfied: werkzeug>=1.0.1 in /usr/local/lib/python3.10/dist-packages (from tensorboard<2.16,>=2.15->tensorflow) (3.0.2)\n",
            "Requirement already satisfied: cachetools<6.0,>=2.0.0 in /usr/local/lib/python3.10/dist-packages (from google-auth<3,>=1.6.3->tensorboard<2.16,>=2.15->tensorflow) (5.3.3)\n",
            "Requirement already satisfied: pyasn1-modules>=0.2.1 in /usr/local/lib/python3.10/dist-packages (from google-auth<3,>=1.6.3->tensorboard<2.16,>=2.15->tensorflow) (0.4.0)\n",
            "Requirement already satisfied: rsa<5,>=3.1.4 in /usr/local/lib/python3.10/dist-packages (from google-auth<3,>=1.6.3->tensorboard<2.16,>=2.15->tensorflow) (4.9)\n",
            "Requirement already satisfied: requests-oauthlib>=0.7.0 in /usr/local/lib/python3.10/dist-packages (from google-auth-oauthlib<2,>=0.5->tensorboard<2.16,>=2.15->tensorflow) (1.3.1)\n",
            "Requirement already satisfied: charset-normalizer<4,>=2 in /usr/local/lib/python3.10/dist-packages (from requests<3,>=2.21.0->tensorboard<2.16,>=2.15->tensorflow) (3.3.2)\n",
            "Requirement already satisfied: idna<4,>=2.5 in /usr/local/lib/python3.10/dist-packages (from requests<3,>=2.21.0->tensorboard<2.16,>=2.15->tensorflow) (3.6)\n",
            "Requirement already satisfied: urllib3<3,>=1.21.1 in /usr/local/lib/python3.10/dist-packages (from requests<3,>=2.21.0->tensorboard<2.16,>=2.15->tensorflow) (2.0.7)\n",
            "Requirement already satisfied: certifi>=2017.4.17 in /usr/local/lib/python3.10/dist-packages (from requests<3,>=2.21.0->tensorboard<2.16,>=2.15->tensorflow) (2024.2.2)\n",
            "Requirement already satisfied: MarkupSafe>=2.1.1 in /usr/local/lib/python3.10/dist-packages (from werkzeug>=1.0.1->tensorboard<2.16,>=2.15->tensorflow) (2.1.5)\n",
            "Requirement already satisfied: pyasn1<0.7.0,>=0.4.6 in /usr/local/lib/python3.10/dist-packages (from pyasn1-modules>=0.2.1->google-auth<3,>=1.6.3->tensorboard<2.16,>=2.15->tensorflow) (0.6.0)\n",
            "Requirement already satisfied: oauthlib>=3.0.0 in /usr/local/lib/python3.10/dist-packages (from requests-oauthlib>=0.7.0->google-auth-oauthlib<2,>=0.5->tensorboard<2.16,>=2.15->tensorflow) (3.2.2)\n"
          ]
        }
      ]
    },
    {
      "cell_type": "code",
      "source": [
        "import os\n",
        "import numpy as np\n",
        "import tensorflow as tf\n",
        "from tensorflow.keras.preprocessing.image import ImageDataGenerator\n",
        "from tensorflow.keras.preprocessing import image_dataset_from_directory\n"
      ],
      "metadata": {
        "id": "hRvnuUwiaCLq"
      },
      "execution_count": 14,
      "outputs": []
    },
    {
      "cell_type": "markdown",
      "source": [
        "Define preprocess Functions"
      ],
      "metadata": {
        "id": "BWuZSK-saZqV"
      }
    },
    {
      "cell_type": "code",
      "source": [
        "def preprocess_data(training_path, validation_path, test_path, img_size, batch_size):\n",
        "    \"\"\"\n",
        "    Preprocess the data: Load, resize, normalize, and optionally augment the images.\n",
        "\n",
        "    Parameters:\n",
        "    - training_path: Path to the training data directory.\n",
        "    - validation_path: Path to the validation data directory.\n",
        "    - test_path: Path to the test data directory.\n",
        "    - img_size: The target size of the images (width, height).\n",
        "    - batch_size: The size of the batches of data.\n",
        "\n",
        "    Returns:\n",
        "    - A tuple of (training_data, validation_data, test_data).\n",
        "    \"\"\"\n",
        "    # Rescaling pixel values from [0, 255] to [0, 1] for neural network to process\n",
        "    rescale = 1./255\n",
        "\n",
        "    # Preparing the training data with data augmentation\n",
        "    train_datagen = ImageDataGenerator(\n",
        "        rescale=rescale,\n",
        "        rotation_range=40,\n",
        "        width_shift_range=0.2,\n",
        "        height_shift_range=0.2,\n",
        "        shear_range=0.2,\n",
        "        zoom_range=0.2,\n",
        "        horizontal_flip=True,\n",
        "        fill_mode='nearest'\n",
        "    )\n",
        "\n",
        "    # Preparing the validation and test data (no data augmentation, only rescaling)\n",
        "    val_test_datagen = ImageDataGenerator(rescale=rescale)\n",
        "\n",
        "    # Loading and iterating directories for training, validation, and test sets\n",
        "    train_data = train_datagen.flow_from_directory(\n",
        "        training_path,\n",
        "        target_size=img_size,\n",
        "        batch_size=batch_size,\n",
        "        class_mode='binary' # or 'categorical' based on your problem\n",
        "    )\n",
        "\n",
        "    validation_data = val_test_datagen.flow_from_directory(\n",
        "        validation_path,\n",
        "        target_size=img_size,\n",
        "        batch_size=batch_size,\n",
        "        class_mode='binary' # or 'categorical'\n",
        "    )\n",
        "\n",
        "    test_data = val_test_datagen.flow_from_directory(\n",
        "        test_path,\n",
        "        target_size=img_size,\n",
        "        batch_size=batch_size,\n",
        "        class_mode='binary' # or 'categorical'\n",
        "    )\n",
        "\n",
        "    return train_data, validation_data, test_data"
      ],
      "metadata": {
        "id": "IdWJbPCWaCWt"
      },
      "execution_count": 32,
      "outputs": []
    },
    {
      "cell_type": "markdown",
      "source": [
        "Preprocess"
      ],
      "metadata": {
        "id": "-1BG1xoKaQyA"
      }
    },
    {
      "cell_type": "code",
      "source": [
        "import os\n",
        "import numpy as np\n",
        "import tensorflow as tf\n",
        "from tensorflow.keras.preprocessing.image import ImageDataGenerator\n",
        "from tensorflow.keras.preprocessing import image_dataset_from_directory\n"
      ],
      "metadata": {
        "id": "SV2dTBqVaSWD"
      },
      "execution_count": 27,
      "outputs": []
    },
    {
      "cell_type": "code",
      "source": [
        "def preprocess_data(training_path, validation_path, test_path, img_size, batch_size):\n",
        "    \"\"\"\n",
        "    Preprocess the data: Load, resize, normalize, and optionally augment the images.\n",
        "\n",
        "    Parameters:\n",
        "    - training_path: Path to the training data directory.\n",
        "    - validation_path: Path to the validation data directory.\n",
        "    - test_path: Path to the test data directory.\n",
        "    - img_size: The target size of the images (width, height).\n",
        "    - batch_size: The size of the batches of data.\n",
        "\n",
        "    Returns:\n",
        "    - A tuple of (training_data, validation_data, test_data).\n",
        "    \"\"\"\n",
        "    # Rescaling pixel values from [0, 255] to [0, 1] for neural network to process\n",
        "    rescale = 1./255\n",
        "\n",
        "    # Preparing the training data with data augmentation\n",
        "    train_datagen = ImageDataGenerator(\n",
        "        rescale=rescale,\n",
        "        rotation_range=40,\n",
        "        width_shift_range=0.2,\n",
        "        height_shift_range=0.2,\n",
        "        shear_range=0.2,\n",
        "        zoom_range=0.2,\n",
        "        horizontal_flip=True,\n",
        "        fill_mode='nearest'\n",
        "    )\n",
        "\n",
        "    # Preparing the validation and test data (no data augmentation, only rescaling)\n",
        "    val_test_datagen = ImageDataGenerator(rescale=rescale)\n",
        "\n",
        "    # Loading and iterating directories for training, validation, and test sets\n",
        "    train_data = train_datagen.flow_from_directory(\n",
        "        training_path,\n",
        "        target_size=img_size,\n",
        "        batch_size=batch_size,\n",
        "        class_mode='binary' # or 'categorical' based on your problem\n",
        "    )\n",
        "\n",
        "    validation_data = val_test_datagen.flow_from_directory(\n",
        "        validation_path,\n",
        "        target_size=img_size,\n",
        "        batch_size=batch_size,\n",
        "        class_mode='binary' # or 'categorical'\n",
        "    )\n",
        "\n",
        "    test_data = val_test_datagen.flow_from_directory(\n",
        "        test_path,\n",
        "        target_size=img_size,\n",
        "        batch_size=batch_size,\n",
        "        class_mode='binary' # or 'categorical'\n",
        "    )\n",
        "\n",
        "    return train_data, validation_data, test_data"
      ],
      "metadata": {
        "id": "QPa9sipxaduY"
      },
      "execution_count": 33,
      "outputs": []
    },
    {
      "cell_type": "markdown",
      "source": [
        "preprocess dataset\n"
      ],
      "metadata": {
        "id": "_SF1zJAOak6A"
      }
    },
    {
      "cell_type": "code",
      "source": [
        "training_path = '/content/drive/My Drive/ISIC_images/training/'\n",
        "validation_path = '/content/drive/My Drive/ISIC_images/validation/'\n",
        "test_path = '/content/drive/My Drive/ISIC_images/test/'\n",
        "\n",
        "# Example size and batch size\n",
        "img_size = (224, 224)\n",
        "batch_size = 32\n",
        "\n",
        "train_data, validation_data, test_data = preprocess_data(training_path, validation_path, test_path, img_size, batch_size)"
      ],
      "metadata": {
        "colab": {
          "base_uri": "https://localhost:8080/"
        },
        "id": "sCBo3otYanxm",
        "outputId": "f6859ee2-e48b-431c-8e86-249a14156050"
      },
      "execution_count": 34,
      "outputs": [
        {
          "output_type": "stream",
          "name": "stdout",
          "text": [
            "Found 0 images belonging to 0 classes.\n",
            "Found 0 images belonging to 0 classes.\n",
            "Found 0 images belonging to 0 classes.\n"
          ]
        }
      ]
    },
    {
      "cell_type": "markdown",
      "source": [
        "Develop the Image Classification Model\n",
        "\n",
        "here we will choose a Convolutional Neural Network, as it is able to process images effectively\n"
      ],
      "metadata": {
        "id": "4-s9O44IPtii"
      }
    },
    {
      "cell_type": "markdown",
      "source": [
        "Define the model"
      ],
      "metadata": {
        "id": "Dlh09LtFbJla"
      }
    },
    {
      "cell_type": "code",
      "source": [
        "from tensorflow.keras.models import Sequential\n",
        "from tensorflow.keras.layers import Conv2D, MaxPooling2D, Flatten, Dense, Dropout\n"
      ],
      "metadata": {
        "id": "kN-5cGsLZ9ab"
      },
      "execution_count": 17,
      "outputs": []
    },
    {
      "cell_type": "code",
      "source": [
        "def build_model(img_size):\n",
        "    model = Sequential([\n",
        "        Conv2D(32, (3, 3), activation='relu', input_shape=(img_size[0], img_size[1], 3)),\n",
        "        MaxPooling2D(2, 2),\n",
        "        Conv2D(64, (3, 3), activation='relu'),\n",
        "        MaxPooling2D(2, 2),\n",
        "        Conv2D(128, (3, 3), activation='relu'),\n",
        "        MaxPooling2D(2, 2),\n",
        "        Flatten(),\n",
        "        Dense(512, activation='relu'),\n",
        "        Dropout(0.5),\n",
        "        Dense(1, activation='sigmoid')  # Use 'softmax' for multiclass classification\n",
        "    ])\n",
        "\n",
        "    return model"
      ],
      "metadata": {
        "id": "CCIaQGwePwJ-"
      },
      "execution_count": 18,
      "outputs": []
    },
    {
      "cell_type": "markdown",
      "source": [
        "compile the model"
      ],
      "metadata": {
        "id": "DVnJMFcQbU-L"
      }
    },
    {
      "cell_type": "code",
      "source": [
        "model = build_model(img_size)\n",
        "\n",
        "model.compile(optimizer='adam',\n",
        "              loss='binary_crossentropy',  # Use 'categorical_crossentropy' for multiclass classification\n",
        "              metrics=['accuracy'])\n",
        "\n",
        "model.summary()"
      ],
      "metadata": {
        "colab": {
          "base_uri": "https://localhost:8080/"
        },
        "id": "VmzqzDLiPxBw",
        "outputId": "3c4f828f-95be-486b-8033-824450107e2e"
      },
      "execution_count": 19,
      "outputs": [
        {
          "output_type": "stream",
          "name": "stdout",
          "text": [
            "Model: \"sequential\"\n",
            "_________________________________________________________________\n",
            " Layer (type)                Output Shape              Param #   \n",
            "=================================================================\n",
            " conv2d (Conv2D)             (None, 222, 222, 32)      896       \n",
            "                                                                 \n",
            " max_pooling2d (MaxPooling2  (None, 111, 111, 32)      0         \n",
            " D)                                                              \n",
            "                                                                 \n",
            " conv2d_1 (Conv2D)           (None, 109, 109, 64)      18496     \n",
            "                                                                 \n",
            " max_pooling2d_1 (MaxPoolin  (None, 54, 54, 64)        0         \n",
            " g2D)                                                            \n",
            "                                                                 \n",
            " conv2d_2 (Conv2D)           (None, 52, 52, 128)       73856     \n",
            "                                                                 \n",
            " max_pooling2d_2 (MaxPoolin  (None, 26, 26, 128)       0         \n",
            " g2D)                                                            \n",
            "                                                                 \n",
            " flatten (Flatten)           (None, 86528)             0         \n",
            "                                                                 \n",
            " dense (Dense)               (None, 512)               44302848  \n",
            "                                                                 \n",
            " dropout (Dropout)           (None, 512)               0         \n",
            "                                                                 \n",
            " dense_1 (Dense)             (None, 1)                 513       \n",
            "                                                                 \n",
            "=================================================================\n",
            "Total params: 44396609 (169.36 MB)\n",
            "Trainable params: 44396609 (169.36 MB)\n",
            "Non-trainable params: 0 (0.00 Byte)\n",
            "_________________________________________________________________\n"
          ]
        }
      ]
    },
    {
      "cell_type": "markdown",
      "source": [
        "Train the model"
      ],
      "metadata": {
        "id": "SQQCKf67be-X"
      }
    },
    {
      "cell_type": "code",
      "source": [
        "history = model.fit(\n",
        "    train_data,\n",
        "    validation_data=validation_data,\n",
        "    epochs=10,  # You can adjust the number of epochs based on your observations\n",
        "    verbose=1\n",
        ")"
      ],
      "metadata": {
        "colab": {
          "base_uri": "https://localhost:8080/",
          "height": 350
        },
        "id": "FXa3CSHybeHt",
        "outputId": "04a73cc1-172b-4b63-d77f-13a7ce82561a"
      },
      "execution_count": 20,
      "outputs": [
        {
          "output_type": "error",
          "ename": "ValueError",
          "evalue": "Asked to retrieve element 0, but the Sequence has length 0",
          "traceback": [
            "\u001b[0;31m---------------------------------------------------------------------------\u001b[0m",
            "\u001b[0;31mValueError\u001b[0m                                Traceback (most recent call last)",
            "\u001b[0;32m<ipython-input-20-ebff68b97e03>\u001b[0m in \u001b[0;36m<cell line: 1>\u001b[0;34m()\u001b[0m\n\u001b[0;32m----> 1\u001b[0;31m history = model.fit(\n\u001b[0m\u001b[1;32m      2\u001b[0m     \u001b[0mtrain_data\u001b[0m\u001b[0;34m,\u001b[0m\u001b[0;34m\u001b[0m\u001b[0;34m\u001b[0m\u001b[0m\n\u001b[1;32m      3\u001b[0m     \u001b[0mvalidation_data\u001b[0m\u001b[0;34m=\u001b[0m\u001b[0mvalidation_data\u001b[0m\u001b[0;34m,\u001b[0m\u001b[0;34m\u001b[0m\u001b[0;34m\u001b[0m\u001b[0m\n\u001b[1;32m      4\u001b[0m     \u001b[0mepochs\u001b[0m\u001b[0;34m=\u001b[0m\u001b[0;36m10\u001b[0m\u001b[0;34m,\u001b[0m  \u001b[0;31m# You can adjust the number of epochs based on your observations\u001b[0m\u001b[0;34m\u001b[0m\u001b[0;34m\u001b[0m\u001b[0m\n\u001b[1;32m      5\u001b[0m     \u001b[0mverbose\u001b[0m\u001b[0;34m=\u001b[0m\u001b[0;36m1\u001b[0m\u001b[0;34m\u001b[0m\u001b[0;34m\u001b[0m\u001b[0m\n",
            "\u001b[0;32m/usr/local/lib/python3.10/dist-packages/keras/src/utils/traceback_utils.py\u001b[0m in \u001b[0;36merror_handler\u001b[0;34m(*args, **kwargs)\u001b[0m\n\u001b[1;32m     68\u001b[0m             \u001b[0;31m# To get the full stack trace, call:\u001b[0m\u001b[0;34m\u001b[0m\u001b[0;34m\u001b[0m\u001b[0m\n\u001b[1;32m     69\u001b[0m             \u001b[0;31m# `tf.debugging.disable_traceback_filtering()`\u001b[0m\u001b[0;34m\u001b[0m\u001b[0;34m\u001b[0m\u001b[0m\n\u001b[0;32m---> 70\u001b[0;31m             \u001b[0;32mraise\u001b[0m \u001b[0me\u001b[0m\u001b[0;34m.\u001b[0m\u001b[0mwith_traceback\u001b[0m\u001b[0;34m(\u001b[0m\u001b[0mfiltered_tb\u001b[0m\u001b[0;34m)\u001b[0m \u001b[0;32mfrom\u001b[0m \u001b[0;32mNone\u001b[0m\u001b[0;34m\u001b[0m\u001b[0;34m\u001b[0m\u001b[0m\n\u001b[0m\u001b[1;32m     71\u001b[0m         \u001b[0;32mfinally\u001b[0m\u001b[0;34m:\u001b[0m\u001b[0;34m\u001b[0m\u001b[0;34m\u001b[0m\u001b[0m\n\u001b[1;32m     72\u001b[0m             \u001b[0;32mdel\u001b[0m \u001b[0mfiltered_tb\u001b[0m\u001b[0;34m\u001b[0m\u001b[0;34m\u001b[0m\u001b[0m\n",
            "\u001b[0;32m/usr/local/lib/python3.10/dist-packages/keras/src/preprocessing/image.py\u001b[0m in \u001b[0;36m__getitem__\u001b[0;34m(self, idx)\u001b[0m\n\u001b[1;32m    101\u001b[0m     \u001b[0;32mdef\u001b[0m \u001b[0m__getitem__\u001b[0m\u001b[0;34m(\u001b[0m\u001b[0mself\u001b[0m\u001b[0;34m,\u001b[0m \u001b[0midx\u001b[0m\u001b[0;34m)\u001b[0m\u001b[0;34m:\u001b[0m\u001b[0;34m\u001b[0m\u001b[0;34m\u001b[0m\u001b[0m\n\u001b[1;32m    102\u001b[0m         \u001b[0;32mif\u001b[0m \u001b[0midx\u001b[0m \u001b[0;34m>=\u001b[0m \u001b[0mlen\u001b[0m\u001b[0;34m(\u001b[0m\u001b[0mself\u001b[0m\u001b[0;34m)\u001b[0m\u001b[0;34m:\u001b[0m\u001b[0;34m\u001b[0m\u001b[0;34m\u001b[0m\u001b[0m\n\u001b[0;32m--> 103\u001b[0;31m             raise ValueError(\n\u001b[0m\u001b[1;32m    104\u001b[0m                 \u001b[0;34m\"Asked to retrieve element {idx}, \"\u001b[0m\u001b[0;34m\u001b[0m\u001b[0;34m\u001b[0m\u001b[0m\n\u001b[1;32m    105\u001b[0m                 \u001b[0;34m\"but the Sequence \"\u001b[0m\u001b[0;34m\u001b[0m\u001b[0;34m\u001b[0m\u001b[0m\n",
            "\u001b[0;31mValueError\u001b[0m: Asked to retrieve element 0, but the Sequence has length 0"
          ]
        }
      ]
    },
    {
      "cell_type": "markdown",
      "source": [
        "Evaluate the model"
      ],
      "metadata": {
        "id": "3ARrsV4QboSp"
      }
    },
    {
      "cell_type": "code",
      "source": [
        "test_loss, test_acc = model.evaluate(test_data, verbose=2)\n",
        "print(f\"Test accuracy: {test_acc}\")"
      ],
      "metadata": {
        "id": "UAyZameabeKk"
      },
      "execution_count": null,
      "outputs": []
    },
    {
      "cell_type": "markdown",
      "source": [
        "3. Implement the NLP Component\n",
        "\n",
        "Utilize a pre-trained model like GPT-3 for generating explanations or advice based on the classification results.\n",
        "This could involve sending a prompt to the model that includes the classification result and asking it to generate a user-friendly explanation."
      ],
      "metadata": {
        "id": "RfUDDRC0PxcH"
      }
    },
    {
      "cell_type": "code",
      "source": [],
      "metadata": {
        "id": "VXGUt9CFbdHw"
      },
      "execution_count": null,
      "outputs": []
    },
    {
      "cell_type": "code",
      "source": [],
      "metadata": {
        "id": "J1NfzsJ4bdT0"
      },
      "execution_count": null,
      "outputs": []
    },
    {
      "cell_type": "code",
      "source": [],
      "metadata": {
        "id": "DXSsK7n7P0Ke"
      },
      "execution_count": null,
      "outputs": []
    },
    {
      "cell_type": "code",
      "source": [],
      "metadata": {
        "id": "4ScKLPLIP2u8"
      },
      "execution_count": null,
      "outputs": []
    },
    {
      "cell_type": "markdown",
      "source": [
        "4. Integrate APIs\n",
        "\n",
        "If using OpenAI's GPT-3, you'll interact with it through its API, sending requests with the classification results and receiving generated text.\n",
        "If your application needs to store or retrieve data, consider integrating a database and accessing it through a REST API.\n"
      ],
      "metadata": {
        "id": "YmPKZljKP01V"
      }
    },
    {
      "cell_type": "code",
      "source": [],
      "metadata": {
        "id": "O6NC2xqZP72A"
      },
      "execution_count": null,
      "outputs": []
    },
    {
      "cell_type": "code",
      "source": [],
      "metadata": {
        "id": "a3NfZZ-6P8Xw"
      },
      "execution_count": null,
      "outputs": []
    },
    {
      "cell_type": "markdown",
      "source": [
        "5. Build the Application Logic\n",
        "\n",
        "Develop a user interface where users can upload photos of skin growths.\n",
        "After uploading, the photo is sent to the image classification model to determine the type of growth.\n",
        "The classification result is used to generate a prompt for the ChatGPT-like model, which then creates an informative response.\n",
        "Display the response to the user along with any additional advice or recommendations."
      ],
      "metadata": {
        "id": "Pvmr3cJZP838"
      }
    },
    {
      "cell_type": "code",
      "source": [],
      "metadata": {
        "id": "9tcXjuvnP_1G"
      },
      "execution_count": null,
      "outputs": []
    },
    {
      "cell_type": "code",
      "source": [],
      "metadata": {
        "id": "uGcwSi8sQAbL"
      },
      "execution_count": null,
      "outputs": []
    },
    {
      "cell_type": "code",
      "source": [],
      "metadata": {
        "id": "CWdf2KnwQAkj"
      },
      "execution_count": null,
      "outputs": []
    },
    {
      "cell_type": "markdown",
      "source": [],
      "metadata": {
        "id": "p93HB7t2QA9P"
      }
    }
  ]
}