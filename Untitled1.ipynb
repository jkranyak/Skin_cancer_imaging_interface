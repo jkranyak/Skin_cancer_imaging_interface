{
  "nbformat": 4,
  "nbformat_minor": 0,
  "metadata": {
    "colab": {
      "provenance": [],
      "authorship_tag": "ABX9TyPb56F5iJUH+uB5XH2z5R8l",
      "include_colab_link": true
    },
    "kernelspec": {
      "name": "python3",
      "display_name": "Python 3"
    },
    "language_info": {
      "name": "python"
    }
  },
  "cells": [
    {
      "cell_type": "markdown",
      "metadata": {
        "id": "view-in-github",
        "colab_type": "text"
      },
      "source": [
        "<a href=\"https://colab.research.google.com/github/jkranyak/project_3/blob/second_model/Untitled1.ipynb\" target=\"_parent\"><img src=\"https://colab.research.google.com/assets/colab-badge.svg\" alt=\"Open In Colab\"/></a>"
      ]
    },
    {
      "cell_type": "code",
      "source": [
        "from google.colab import drive\n",
        "drive.mount('/content/drive')"
      ],
      "metadata": {
        "colab": {
          "base_uri": "https://localhost:8080/"
        },
        "id": "ajir8HbswYNv",
        "outputId": "0d418a5c-676e-43fb-9f60-93347879edac"
      },
      "execution_count": 1,
      "outputs": [
        {
          "output_type": "stream",
          "name": "stdout",
          "text": [
            "Mounted at /content/drive\n"
          ]
        }
      ]
    },
    {
      "cell_type": "markdown",
      "source": [],
      "metadata": {
        "id": "IqGun8pV0Ni4"
      }
    },
    {
      "cell_type": "markdown",
      "source": [
        "get the data over here"
      ],
      "metadata": {
        "id": "DuhvQbmUz9hR"
      }
    },
    {
      "cell_type": "code",
      "source": [],
      "metadata": {
        "id": "ku0yQOy7waT-"
      },
      "execution_count": null,
      "outputs": []
    },
    {
      "cell_type": "markdown",
      "source": [
        "run all the same cells and augment by resampling the data like we did in model 1\n"
      ],
      "metadata": {
        "id": "e1pVsmdNz-Gf"
      }
    },
    {
      "cell_type": "code",
      "source": [],
      "metadata": {
        "id": "pwcebCBWwaXO"
      },
      "execution_count": null,
      "outputs": []
    },
    {
      "cell_type": "markdown",
      "source": [
        "then run this model and lets see how it compares to our model"
      ],
      "metadata": {
        "id": "GiUXRRUg0P_W"
      }
    },
    {
      "cell_type": "code",
      "execution_count": null,
      "metadata": {
        "id": "EkjIcsC-wRNs"
      },
      "outputs": [],
      "source": [
        "import numpy as np\n",
        "import pandas as pd\n",
        "from sklearn.model_selection import train_test_split\n",
        "from tensorflow.keras.preprocessing.image import ImageDataGenerator\n",
        "from tensorflow.keras.applications import DenseNet169\n",
        "from tensorflow.keras.layers import GlobalAveragePooling2D, Dense, Dropout, BatchNormalization, Activation\n",
        "from tensorflow.keras.models import Model\n",
        "from tensorflow.keras.utils import to_categorical\n",
        "from sklearn.utils.class_weight import compute_class_weight\n",
        "\n",
        "# Assuming 'full_metadata' is already defined and loaded as shown previously\n",
        "\n",
        "# Splitting the data into training, validation, and test sets\n",
        "train_val_data, test_data = train_test_split(full_metadata, test_size=0.1, random_state=42)\n",
        "train_data, val_data = train_test_split(train_val_data, test_size=0.1, random_state=42)\n",
        "\n",
        "# Prepare ImageDataGenerator for training and validation\n",
        "train_datagen = ImageDataGenerator(\n",
        "    rescale=1./255,\n",
        "    rotation_range=40,\n",
        "    width_shift_range=0.2,\n",
        "    height_shift_range=0.2,\n",
        "    shear_range=0.2,\n",
        "    zoom_range=0.2,\n",
        "    horizontal_flip=True,\n",
        "    fill_mode='nearest'\n",
        ")\n",
        "\n",
        "val_test_datagen = ImageDataGenerator(rescale=1./255)\n",
        "\n",
        "# Setup generators\n",
        "train_generator = train_datagen.flow_from_dataframe(\n",
        "    dataframe=train_data,\n",
        "    directory=None,\n",
        "    x_col='image_path',\n",
        "    y_col='labels',  # Ensure your labels column is correctly named and formatted\n",
        "    target_size=(224, 224),\n",
        "    batch_size=32,\n",
        "    class_mode='categorical'\n",
        ")\n",
        "\n",
        "val_generator = val_test_datagen.flow_from_dataframe(\n",
        "    dataframe=val_data,\n",
        "    directory=None,\n",
        "    x_col='image_path',\n",
        "    y_col='labels',\n",
        "    target_size=(224, 224),\n",
        "    batch_size=32,\n",
        "    class_mode='categorical'\n",
        ")\n",
        "\n",
        "# Calculate class weights for handling class imbalance\n",
        "labels = train_data['labels'].values  # Make sure this reflects your actual labels\n",
        "class_weights = compute_class_weight('balanced', np.unique(labels), labels)\n",
        "class_weights = dict(enumerate(class_weights))\n",
        "\n",
        "# Load DenseNet169\n",
        "base_model = DenseNet169(weights='imagenet', include_top=False, input_shape=(224, 224, 3))\n",
        "\n",
        "# Adding custom layers on top\n",
        "x = base_model.output\n",
        "x = GlobalAveragePooling2D()(x)\n",
        "x = Dense(256)(x)\n",
        "x = BatchNormalization()(x)\n",
        "x = Activation('relu')(x)\n",
        "x = Dropout(0.5)(x)\n",
        "x = Dense(128)(x)\n",
        "x = BatchNormalization()(x)\n",
        "x = Activation('relu')(x)\n",
        "x = Dropout(0.5)(x)\n",
        "predictions = Dense(len(np.unique(labels)), activation='sigmoid')(x)  # Adjust number of outputs\n",
        "\n",
        "model = Model(inputs=base_model.input, outputs=predictions)\n",
        "\n",
        "# Compile the model (to be defined based on your specific needs)\n",
        "model.compile(optimizer='adam', loss='categorical_crossentropy', metrics=['accuracy'])\n",
        "\n",
        "# Ready to train\n",
        "model.fit(train_generator, epochs=10, validation_data=val_generator, class_weight=class_weights)\n"
      ]
    }
  ]
}